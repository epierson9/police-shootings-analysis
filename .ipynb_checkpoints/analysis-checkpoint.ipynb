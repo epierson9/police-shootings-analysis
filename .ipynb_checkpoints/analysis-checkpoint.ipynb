{
 "metadata": {
  "name": "",
  "signature": "sha256:45a66810596949310743cb594719ca157ee4a1719d08df5797b20ac0cd997829"
 },
 "nbformat": 3,
 "nbformat_minor": 0,
 "worksheets": [
  {
   "cells": [
    {
     "cell_type": "code",
     "collapsed": false,
     "input": [
      "import pandas as pd\n",
      "from collections import Counter\n",
      "import statsmodels.api as sm\n",
      "from scipy.stats import ttest_ind\n",
      "import json\n",
      "\n",
      "d = pd.read_csv('fatal-police-shootings-data.csv')"
     ],
     "language": "python",
     "metadata": {},
     "outputs": [],
     "prompt_number": 205
    },
    {
     "cell_type": "code",
     "collapsed": false,
     "input": [
      "states_to_codes = {\n",
      "    \"Alabama\": \"AL\",\n",
      "    \"Alaska\": \"AK\",\n",
      "    \"Arizona\": \"AZ\",\n",
      "    \"Arkansas\": \"AR\",\n",
      "    \"California\": \"CA\",\n",
      "    \"Colorado\": \"CO\",\n",
      "    \"Connecticut\": \"CT\",\n",
      "    \"Delaware\": \"DE\",\n",
      "    \"Florida\": \"FL\",\n",
      "    \"Georgia\": \"GA\",\n",
      "    \"Hawaii\": \"HI\",\n",
      "    \"Idaho\": \"ID\",\n",
      "    \"Illinois\": \"IL\",\n",
      "    \"Indiana\": \"IN\",\n",
      "    \"Iowa\": \"IA\",\n",
      "    \"Kansas\": \"KS\",\n",
      "    \"Kentucky\": \"KY\",\n",
      "    \"Louisiana\": \"LA\",\n",
      "    \"Maine\": \"ME\",\n",
      "    \"Maryland\": \"MD\",\n",
      "    \"Massachusetts\": \"MA\",\n",
      "    \"Michigan\": \"MI\",\n",
      "    \"Minnesota\": \"MN\",\n",
      "    \"Mississippi\": \"MS\",\n",
      "    \"Missouri\": \"MO\",\n",
      "    \"Montana\": \"MT\",\n",
      "    \"Nebraska\": \"NE\",\n",
      "    \"Nevada\": \"NV\",\n",
      "    \"New Hampshire\": \"NH\",\n",
      "    \"New Jersey\": \"NJ\",\n",
      "    \"New Mexico\": \"NM\",\n",
      "    \"New York\": \"NY\",\n",
      "    \"North Carolina\": \"NC\",\n",
      "    \"North Dakota\": \"ND\",\n",
      "    \"Ohio\": \"OH\",\n",
      "    \"Oklahoma\": \"OK\",\n",
      "    \"Oregon\": \"OR\",\n",
      "    \"Pennsylvania\": \"PA\",\n",
      "    \"Rhode Island\": \"RI\",\n",
      "    \"South Carolina\": \"SC\",\n",
      "    \"South Dakota\": \"SD\",\n",
      "    \"Tennessee\": \"TN\",\n",
      "    \"Texas\": \"TX\",\n",
      "    \"Utah\": \"UT\",\n",
      "    \"Vermont\": \"VT\",\n",
      "    \"Virginia\": \"VA\",\n",
      "    \"Washington\": \"WA\",\n",
      "    \"West Virginia\": \"WV\",\n",
      "    \"Wisconsin\": \"WI\",\n",
      "    \"Wyoming\": \"WY\",\n",
      "}"
     ],
     "language": "python",
     "metadata": {},
     "outputs": [],
     "prompt_number": 208
    },
    {
     "cell_type": "code",
     "collapsed": false,
     "input": [
      "f = open('black_pop_by_state.csv')\n",
      "black_pops_by_state = {}\n",
      "for line in f:\n",
      "    l = line.split()\n",
      "    pop = int(l[-2].replace(',', ''))\n",
      "    state_name = ' '.join(l[1:-2])\n",
      "    state_code = states_to_codes[state_name]\n",
      "    black_pops_by_state[state_code] = pop"
     ],
     "language": "python",
     "metadata": {},
     "outputs": [],
     "prompt_number": 211
    },
    {
     "cell_type": "heading",
     "level": 1,
     "metadata": {},
     "source": [
      "No obvious patterns by state or month. "
     ]
    },
    {
     "cell_type": "code",
     "collapsed": false,
     "input": [
      "black_deaths_by_state = Counter(d['state'].loc[d['race'] == 'B'])\n",
      "for state in sorted(black_pops_by_state, key = lambda x:1.*black_deaths_by_state[x] / black_pops_by_state[x])[::-1]:\n",
      "    if black_deaths_by_state[state] >= 5:\n",
      "        print state, black_deaths_by_state[state], 1.*black_deaths_by_state[state] / black_pops_by_state[state]"
     ],
     "language": "python",
     "metadata": {},
     "outputs": [
      {
       "output_type": "stream",
       "stream": "stdout",
       "text": [
        "OK 9 3.24156113584e-05\n",
        "CA 33 1.43536174596e-05\n",
        "MO 8 1.13629423203e-05\n",
        "IN 6 1.0145469118e-05\n",
        "LA 14 9.29285366278e-06\n",
        "OH 13 9.23504686076e-06\n",
        "FL 26 8.66706535167e-06\n",
        "SC 9 6.97304684958e-06\n",
        "MD 12 6.67188185432e-06\n",
        "VA 10 6.44579505337e-06\n",
        "PA 8 5.80682577853e-06\n",
        "TX 17 5.70546765033e-06\n",
        "IL 10 5.35786808286e-06\n",
        "AL 6 4.79497103438e-06\n",
        "MI 5 3.57050534076e-06\n",
        "NC 7 3.41692098321e-06\n",
        "GA 10 3.17416483755e-06\n",
        "NY 8 2.60264168131e-06\n"
       ]
      }
     ],
     "prompt_number": 218
    },
    {
     "cell_type": "code",
     "collapsed": false,
     "input": [
      "d['month'] = d['date'].map(lambda x:x.split('-')[1])\n",
      "for col in ['month', 'date', 'manner_of_death', 'armed', 'age', 'gender', 'race', 'state', 'signs_of_mental_illness', 'threat_level']:\n",
      "    print col\n",
      "    print Counter(d[col])"
     ],
     "language": "python",
     "metadata": {},
     "outputs": [
      {
       "output_type": "stream",
       "stream": "stdout",
       "text": [
        "month\n",
        "Counter({'07': 103, '08': 94, '03': 92, '04': 84, '09': 81, '10': 81, '02': 77, '01': 76, '05': 71, '11': 71, '12': 70, '06': 65})\n",
        "date\n",
        "Counter({'2015-12-14': 8, '2015-07-07': 8, '2015-12-21': 7, '2015-03-27': 7, '2015-07-16': 7, '2015-02-28': 7, '2015-10-15': 7, '2015-03-11': 7, '2015-12-12': 7, '2015-01-14': 6, '2015-04-15': 6, '2015-02-04': 6, '2015-02-23': 6, '2015-04-29': 6, '2015-10-24': 6, '2015-03-19': 6, '2015-08-07': 6, '2015-08-12': 6, '2015-08-05': 6, '2015-12-02': 6, '2015-07-09': 6, '2015-09-21': 6, '2015-05-03': 5, '2015-10-20': 5, '2015-01-15': 5, '2015-07-06': 5, '2015-04-09': 5, '2015-09-15': 5, '2015-10-28': 5, '2015-06-03': 5, '2015-06-06': 5, '2015-11-17': 5, '2015-07-17': 5, '2015-02-08': 5, '2015-12-05': 5, '2015-06-11': 5, '2015-07-23': 5, '2015-02-17': 5, '2015-02-13': 5, '2015-07-12': 5, '2015-09-10': 5, '2015-08-22': 5, '2015-08-23': 5, '2015-11-29': 5, '2015-08-25': 5, '2015-02-26': 5, '2015-05-20': 5, '2015-04-22': 5, '2015-10-14': 5, '2015-10-10': 5, '2015-05-21': 5, '2015-05-27': 5, '2015-11-09': 5, '2015-03-17': 5, '2015-09-04': 5, '2015-09-23': 5, '2015-09-22': 5, '2015-05-08': 4, '2015-07-04': 4, '2015-07-05': 4, '2015-10-11': 4, '2015-12-13': 4, '2015-04-08': 4, '2015-04-02': 4, '2015-04-04': 4, '2015-01-08': 4, '2015-01-07': 4, '2015-01-06': 4, '2015-07-03': 4, '2015-07-02': 4, '2015-03-21': 4, '2015-03-25': 4, '2015-09-05': 4, '2015-07-30': 4, '2015-02-03': 4, '2015-07-13': 4, '2015-08-19': 4, '2015-07-25': 4, '2015-06-09': 4, '2015-06-22': 4, '2015-06-23': 4, '2015-08-28': 4, '2015-08-27': 4, '2015-09-09': 4, '2015-08-09': 4, '2015-02-20': 4, '2015-12-22': 4, '2015-04-24': 4, '2015-08-03': 4, '2015-05-28': 4, '2015-08-08': 4, '2015-12-10': 4, '2015-03-13': 4, '2015-03-10': 4, '2015-10-02': 4, '2015-10-30': 4, '2015-10-05': 4, '2015-08-15': 4, '2015-08-14': 4, '2015-04-21': 4, '2015-11-11': 4, '2015-11-04': 4, '2015-11-05': 4, '2015-03-09': 4, '2015-01-27': 4, '2015-01-26': 4, '2015-01-21': 4, '2015-05-07': 3, '2015-05-05': 3, '2015-12-06': 3, '2015-07-18': 3, '2015-01-11': 3, '2015-01-17': 3, '2015-03-31': 3, '2015-09-13': 3, '2015-04-06': 3, '2015-11-15': 3, '2015-01-04': 3, '2015-03-22': 3, '2015-03-20': 3, '2015-03-24': 3, '2015-10-22': 3, '2015-04-17': 3, '2015-04-12': 3, '2015-10-04': 3, '2015-11-13': 3, '2015-02-02': 3, '2015-06-13': 3, '2015-06-19': 3, '2015-11-10': 3, '2015-10-21': 3, '2015-09-01': 3, '2015-07-27': 3, '2015-07-22': 3, '2015-07-21': 3, '2015-06-08': 3, '2015-11-19': 3, '2015-02-15': 3, '2015-02-16': 3, '2015-02-10': 3, '2015-10-16': 3, '2015-08-29': 3, '2015-08-20': 3, '2015-08-21': 3, '2015-08-26': 3, '2015-12-18': 3, '2015-11-06': 3, '2015-04-26': 3, '2015-04-25': 3, '2015-04-23': 3, '2015-01-24': 3, '2015-04-28': 3, '2015-10-26': 3, '2015-05-26': 3, '2015-11-24': 3, '2015-05-29': 3, '2015-05-23': 3, '2015-01-28': 3, '2015-09-06': 3, '2015-03-18': 3, '2015-03-14': 3, '2015-11-22': 3, '2015-05-19': 3, '2015-05-17': 3, '2015-05-12': 3, '2015-09-24': 3, '2015-11-01': 3, '2015-03-08': 3, '2015-01-23': 3, '2015-03-01': 3, '2015-03-05': 3, '2015-03-06': 3, '2015-09-25': 3, '2015-09-27': 3, '2015-01-18': 2, '2015-07-14': 2, '2015-01-13': 2, '2015-01-16': 2, '2015-07-01': 2, '2015-12-04': 2, '2015-03-30': 2, '2015-09-12': 2, '2015-09-14': 2, '2015-09-17': 2, '2015-04-01': 2, '2015-04-05': 2, '2015-10-29': 2, '2015-10-31': 2, '2015-07-08': 2, '2015-01-09': 2, '2015-01-02': 2, '2015-03-26': 2, '2015-03-29': 2, '2015-06-02': 2, '2015-06-07': 2, '2015-04-19': 2, '2015-04-18': 2, '2015-04-14': 2, '2015-04-10': 2, '2015-11-20': 2, '2015-10-18': 2, '2015-08-16': 2, '2015-12-09': 2, '2015-02-09': 2, '2015-02-07': 2, '2015-06-14': 2, '2015-06-17': 2, '2015-06-16': 2, '2015-11-23': 2, '2015-11-25': 2, '2015-10-09': 2, '2015-06-05': 2, '2015-07-26': 2, '2015-07-24': 2, '2015-07-20': 2, '2015-07-29': 2, '2015-02-14': 2, '2015-02-11': 2, '2015-12-19': 2, '2015-06-25': 2, '2015-06-26': 2, '2015-06-21': 2, '2015-12-20': 2, '2015-11-18': 2, '2015-10-17': 2, '2015-10-12': 2, '2015-02-21': 2, '2015-02-25': 2, '2015-08-04': 2, '2015-12-08': 2, '2015-07-10': 2, '2015-08-06': 2, '2015-01-25': 2, '2015-08-30': 2, '2015-05-30': 2, '2015-05-31': 2, '2015-09-19': 2, '2015-07-31': 2, '2015-11-30': 2, '2015-04-30': 2, '2015-01-29': 2, '2015-05-25': 2, '2015-08-01': 2, '2015-09-11': 2, '2015-01-31': 2, '2015-03-16': 2, '2015-08-11': 2, '2015-08-17': 2, '2015-05-14': 2, '2015-05-15': 2, '2015-05-10': 2, '2015-05-11': 2, '2015-12-17': 2, '2015-12-01': 2, '2015-11-16': 2, '2015-01-22': 2, '2015-03-03': 2, '2015-03-04': 2, '2015-09-29': 2, '2015-09-28': 2, '2015-09-26': 2, '2015-09-20': 2, '2015-05-02': 1, '2015-05-06': 1, '2015-05-04': 1, '2015-01-19': 1, '2015-11-21': 1, '2015-09-16': 1, '2015-09-18': 1, '2015-04-03': 1, '2015-04-07': 1, '2015-11-12': 1, '2015-10-27': 1, '2015-01-05': 1, '2015-01-03': 1, '2015-03-23': 1, '2015-11-14': 1, '2015-06-01': 1, '2015-04-16': 1, '2015-04-13': 1, '2015-04-11': 1, '2015-07-19': 1, '2015-10-07': 1, '2015-10-06': 1, '2015-09-07': 1, '2015-07-15': 1, '2015-12-15': 1, '2015-02-06': 1, '2015-02-05': 1, '2015-06-10': 1, '2015-06-12': 1, '2015-06-15': 1, '2015-06-18': 1, '2015-10-25': 1, '2015-07-11': 1, '2015-09-02': 1, '2015-07-28': 1, '2015-02-18': 1, '2015-06-24': 1, '2015-06-27': 1, '2015-06-20': 1, '2015-09-08': 1, '2015-06-28': 1, '2015-06-29': 1, '2015-02-22': 1, '2015-02-24': 1, '2015-02-27': 1, '2015-06-30': 1, '2015-12-23': 1, '2015-04-20': 1, '2015-08-31': 1, '2015-08-02': 1, '2015-12-16': 1, '2015-11-28': 1, '2015-04-27': 1, '2015-05-22': 1, '2015-10-19': 1, '2015-11-26': 1, '2015-01-30': 1, '2015-03-12': 1, '2015-03-15': 1, '2015-09-30': 1, '2015-12-11': 1, '2015-08-10': 1, '2015-05-16': 1, '2015-11-02': 1, '2015-11-03': 1, '2015-01-20': 1, '2015-03-02': 1, '2015-03-07': 1, '2015-12-03': 1, '2015-11-27': 1})\n",
        "manner_of_death\n",
        "Counter({'shot': 897, 'shot and Tasered': 68})\n",
        "armed\n",
        "Counter({'gun': 560, 'knife': 132, 'unarmed': 90, 'vehicle': 52, 'toy weapon': 32, 'undetermined': 23, 'machete': 9, 'unknown weapon': 7, 'box cutter': 7, 'sword': 6, 'hammer': 4, 'metal pipe': 4, nan: 3, 'guns and explosives': 3, 'Taser': 3, 'metal stick': 2, 'screwdriver': 2, 'blunt object': 2, 'crossbow': 2, 'hatchet': 2, 'beer bottle': 1, 'shovel': 1, 'metal hand tool': 1, 'chain': 1, 'gun and knife': 1, 'ax': 1, 'straight edge razor': 1, 'lawn mower blade': 1, 'sharp object': 1, 'bean-bag gun': 1, 'meat cleaver': 1, 'metal object': 1, 'carjack': 1, 'flagpole': 1, 'cordless drill': 1, 'baseball bat and fireplace poker': 1, 'nail gun': 1, 'stapler': 1, \"contractor's level\": 1, 'metal pole': 1})\n",
        "age\n",
        "Counter({35.0: 36, 27.0: 35, 29.0: 35, 31.0: 35, 24.0: 34, 28.0: 34, 36.0: 33, 25.0: 31, 30.0: 31, 34.0: 31, 45.0: 29, 23.0: 28, 26.0: 26, 21.0: 23, 32.0: 23, 39.0: 23, 33.0: 21, 47.0: 21, 22.0: 20, 40.0: 20, 49.0: 20, 18.0: 19, 20.0: 19, 42.0: 19, 46.0: 19, 37.0: 18, 51.0: 17, 41.0: 16, 53.0: 16, 19.0: 15, 50.0: 14, 59.0: 14, 38.0: 13, 43.0: 13, 48.0: 13, 44.0: 11, 54.0: 11, 17.0: 10, 56.0: 10, 57.0: 10, 52.0: 9, 58.0: 9, 60.0: 8, 55.0: 6, 61.0: 6, 62.0: 6, 63.0: 5, 16.0: 4, 15.0: 3, 64.0: 3, 66.0: 3, 68.0: 3, 76.0: 3, 67.0: 2, 69.0: 2, 71.0: 2, 72.0: 2, 77.0: 2, nan: 1, nan: 1, nan: 1, nan: 1, nan: 1, 65.0: 1, 74.0: 1, 75.0: 1, nan: 1, 83.0: 1, 86.0: 1, nan: 1, nan: 1, nan: 1, nan: 1, nan: 1, 6.0: 1, nan: 1, nan: 1, nan: 1, nan: 1})\n",
        "gender\n",
        "Counter({'M': 926, 'F': 39})\n",
        "race\n",
        "Counter({'W': 479, 'B': 249, 'H': 163, nan: 38, 'O': 14, 'A': 13, 'N': 9})\n",
        "state\n",
        "Counter({'CA': 182, 'TX': 95, 'FL': 60, 'AZ': 40, 'OK': 32, 'GA': 29, 'OH': 29, 'CO': 28, 'LA': 24, 'NC': 22, 'NM': 20, 'TN': 20, 'MO': 20, 'IN': 19, 'SC': 19, 'NY': 18, 'PA': 18, 'NV': 18, 'IL': 18, 'VA': 17, 'AL': 17, 'WA': 16, 'KY': 16, 'OR': 16, 'NJ': 15, 'MD': 15, 'MI': 15, 'WI': 12, 'MN': 12, 'WV': 10, 'UT': 10, 'MA': 9, 'KS': 9, 'NE': 8, 'MS': 7, 'ID': 6, 'WY': 5, 'AR': 5, 'IA': 5, 'DC': 4, 'AK': 4, 'MT': 4, 'DE': 3, 'NH': 3, 'SD': 3, 'HI': 2, 'CT': 2, 'ME': 2, 'ND': 1, 'VT': 1})\n",
        "signs_of_mental_illness\n",
        "Counter({0.0: 722, 1.0: 243})\n",
        "threat_level\n",
        "Counter({'attack': 719, 'other': 206, 'undetermined': 40})\n"
       ]
      }
     ],
     "prompt_number": 196
    },
    {
     "cell_type": "heading",
     "level": 1,
     "metadata": {},
     "source": [
      "White people shot by police were more likely to have mental illness, more likely to be armed, and more likely to be attacking than non-white people. "
     ]
    },
    {
     "cell_type": "code",
     "collapsed": false,
     "input": [
      "\n",
      "d['signs_of_mental_illness'] = d['signs_of_mental_illness'] * 1.\n",
      "d['is_unarmed'] = (d['armed'] == 'unarmed') * 1.\n",
      "d['is_not_attacking'] = (d['threat_level'] != 'attack') * 1.\n",
      "d['is_white'] = d['race'] == 'W'\n",
      "\n",
      "from scipy.stats import pearsonr\n",
      "small_d = d.loc[d['race'].map(lambda x:x in ['W', 'B', 'H'])]\n",
      "model = sm.Logit.from_formula('is_not_attacking ~ is_white + signs_of_mental_illness', data = small_d).fit()\n",
      "print model.summary()\n",
      "\n",
      "covs_of_interest = ['signs_of_mental_illness', 'is_unarmed', 'is_not_attacking', 'age']\n",
      "for cov in covs_of_interest:\n",
      "    p_for_whites = d[cov][d['is_white'] == 1].mean()\n",
      "    p_for_not_whites = d[cov][d['is_white'] == 0].mean()\n",
      "    p_for_hispanics = d[cov][d['race'] == 'H'].mean()\n",
      "    p_for_blacks = d[cov][d['race'] == 'B'].mean()\n",
      "    print 'Probability of %s for whites is %2.3f; for non-whites is %2.3f; blacks %2.3f, hispanics %2.3f' % (cov, p_for_whites, p_for_not_whites, p_for_blacks, p_for_hispanics)\n",
      "for cov in covs_of_interest:\n",
      "    model = sm.Logit.from_formula('%s ~ is_white' % cov, data = d).fit()\n",
      "    print model.summary()\n",
      "    model = sm.Logit.from_formula('%s ~ C(race, Sum)' % cov, data = small_d).fit()\n",
      "    print model.summary()\n",
      "    \n"
     ],
     "language": "python",
     "metadata": {},
     "outputs": [
      {
       "output_type": "stream",
       "stream": "stdout",
       "text": [
        "Optimization terminated successfully.\n",
        "         Current function value: 0.550658\n",
        "         Iterations 5\n",
        "                           Logit Regression Results                           \n",
        "==============================================================================\n",
        "Dep. Variable:       is_not_attacking   No. Observations:                  891\n",
        "Model:                          Logit   Df Residuals:                      888\n",
        "Method:                           MLE   Df Model:                            2\n",
        "Date:                Tue, 29 Dec 2015   Pseudo R-squ.:                 0.03175\n",
        "Time:                        11:12:30   Log-Likelihood:                -490.64\n",
        "converged:                       True   LL-Null:                       -506.73\n",
        "                                        LLR p-value:                 1.028e-07\n",
        "===========================================================================================\n",
        "                              coef    std err          z      P>|z|      [95.0% Conf. Int.]\n",
        "-------------------------------------------------------------------------------------------\n",
        "Intercept                  -0.8125      0.111     -7.328      0.000        -1.030    -0.595\n",
        "is_white[T.True]           -0.8262      0.161     -5.126      0.000        -1.142    -0.510\n",
        "signs_of_mental_illness     0.5683      0.178      3.196      0.001         0.220     0.917\n",
        "===========================================================================================\n",
        "Probability of signs_of_mental_illness for whites is 0.317; for non-whites is 0.187; blacks 0.153, hispanics 0.202\n",
        "Probability of is_unarmed for whites is 0.065; for non-whites is 0.121; blacks 0.145, hispanics 0.110\n",
        "Probability of is_not_attacking for whites is 0.192; for non-whites is 0.317; blacks 0.285, hispanics 0.399\n",
        "Probability of age for whites is 39.555; for non-whites is 33.787; blacks 32.037, hispanics 33.074\n",
        "Optimization terminated successfully.\n",
        "         Current function value: 0.553002\n",
        "         Iterations 5\n",
        "                              Logit Regression Results                             \n",
        "===================================================================================\n",
        "Dep. Variable:     signs_of_mental_illness   No. Observations:                  965\n",
        "Model:                               Logit   Df Residuals:                      963\n",
        "Method:                                MLE   Df Model:                            1\n",
        "Date:                     Tue, 29 Dec 2015   Pseudo R-squ.:                 0.02005\n",
        "Time:                             11:12:30   Log-Likelihood:                -533.65\n",
        "converged:                            True   LL-Null:                       -544.57\n",
        "                                             LLR p-value:                 2.962e-06\n",
        "====================================================================================\n",
        "                       coef    std err          z      P>|z|      [95.0% Conf. Int.]\n",
        "------------------------------------------------------------------------------------\n",
        "Intercept           -1.4680      0.116    -12.625      0.000        -1.696    -1.240\n",
        "is_white[T.True]     0.7019      0.152      4.613      0.000         0.404     1.000\n",
        "====================================================================================\n",
        "Optimization terminated successfully.\n",
        "         Current function value: 0.547464\n",
        "         Iterations 6\n",
        "                              Logit Regression Results                             \n",
        "===================================================================================\n",
        "Dep. Variable:     signs_of_mental_illness   No. Observations:                  891\n",
        "Model:                               Logit   Df Residuals:                      888\n",
        "Method:                                MLE   Df Model:                            2\n",
        "Date:                     Tue, 29 Dec 2015   Pseudo R-squ.:                 0.02698\n",
        "Time:                             11:12:30   Log-Likelihood:                -487.79\n",
        "converged:                            True   LL-Null:                       -501.32\n",
        "                                             LLR p-value:                 1.337e-06\n",
        "=====================================================================================\n",
        "                        coef    std err          z      P>|z|      [95.0% Conf. Int.]\n",
        "-------------------------------------------------------------------------------------\n",
        "Intercept            -1.2838      0.094    -13.730      0.000        -1.467    -1.101\n",
        "C(race, Sum)[S.B]    -0.4305      0.138     -3.115      0.002        -0.701    -0.160\n",
        "C(race, Sum)[S.H]    -0.0872      0.146     -0.596      0.551        -0.374     0.200\n",
        "=====================================================================================\n",
        "Optimization terminated successfully.\n",
        "         Current function value: 0.305202\n",
        "         Iterations 7\n",
        "                           Logit Regression Results                           \n",
        "==============================================================================\n",
        "Dep. Variable:             is_unarmed   No. Observations:                  965\n",
        "Model:                          Logit   Df Residuals:                      963\n",
        "Method:                           MLE   Df Model:                            1\n",
        "Date:                Tue, 29 Dec 2015   Pseudo R-squ.:                 0.01556\n",
        "Time:                        11:12:30   Log-Likelihood:                -294.52\n",
        "converged:                       True   LL-Null:                       -299.17\n",
        "                                        LLR p-value:                  0.002278\n",
        "====================================================================================\n",
        "                       coef    std err          z      P>|z|      [95.0% Conf. Int.]\n",
        "------------------------------------------------------------------------------------\n",
        "Intercept           -1.9792      0.139    -14.250      0.000        -2.251    -1.707\n",
        "is_white[T.True]    -0.6916      0.232     -2.982      0.003        -1.146    -0.237\n",
        "====================================================================================\n",
        "Optimization terminated successfully."
       ]
      },
      {
       "output_type": "stream",
       "stream": "stdout",
       "text": [
        "\n",
        "         Current function value: 0.307919\n",
        "         Iterations 7\n",
        "                           Logit Regression Results                           \n",
        "==============================================================================\n",
        "Dep. Variable:             is_unarmed   No. Observations:                  891\n",
        "Model:                          Logit   Df Residuals:                      888\n",
        "Method:                           MLE   Df Model:                            2\n",
        "Date:                Tue, 29 Dec 2015   Pseudo R-squ.:                 0.02202\n",
        "Time:                        11:12:30   Log-Likelihood:                -274.36\n",
        "converged:                       True   LL-Null:                       -280.53\n",
        "                                        LLR p-value:                  0.002074\n",
        "=====================================================================================\n",
        "                        coef    std err          z      P>|z|      [95.0% Conf. Int.]\n",
        "-------------------------------------------------------------------------------------\n",
        "Intercept            -2.1783      0.120    -18.166      0.000        -2.413    -1.943\n",
        "C(race, Sum)[S.B]     0.4005      0.159      2.523      0.012         0.089     0.712\n",
        "C(race, Sum)[S.H]     0.0920      0.188      0.490      0.624        -0.276     0.460\n",
        "=====================================================================================\n",
        "Optimization terminated successfully.\n",
        "         Current function value: 0.557338\n",
        "         Iterations 5\n",
        "                           Logit Regression Results                           \n",
        "==============================================================================\n",
        "Dep. Variable:       is_not_attacking   No. Observations:                  965\n",
        "Model:                          Logit   Df Residuals:                      963\n",
        "Method:                           MLE   Df Model:                            1\n",
        "Date:                Tue, 29 Dec 2015   Pseudo R-squ.:                 0.01821\n",
        "Time:                        11:12:30   Log-Likelihood:                -537.83\n",
        "converged:                       True   LL-Null:                       -547.81\n",
        "                                        LLR p-value:                 7.923e-06\n",
        "====================================================================================\n",
        "                       coef    std err          z      P>|z|      [95.0% Conf. Int.]\n",
        "------------------------------------------------------------------------------------\n",
        "Intercept           -0.7682      0.097     -7.879      0.000        -0.959    -0.577\n",
        "is_white[T.True]    -0.6685      0.152     -4.412      0.000        -0.965    -0.371\n",
        "====================================================================================\n",
        "Optimization terminated successfully.\n",
        "         Current function value: 0.553072\n",
        "         Iterations 5\n",
        "                           Logit Regression Results                           \n",
        "==============================================================================\n",
        "Dep. Variable:       is_not_attacking   No. Observations:                  891\n",
        "Model:                          Logit   Df Residuals:                      888\n",
        "Method:                           MLE   Df Model:                            2\n",
        "Date:                Tue, 29 Dec 2015   Pseudo R-squ.:                 0.02751\n",
        "Time:                        11:12:30   Log-Likelihood:                -492.79\n",
        "converged:                       True   LL-Null:                       -506.73\n",
        "                                        LLR p-value:                 8.836e-07\n",
        "=====================================================================================\n",
        "                        coef    std err          z      P>|z|      [95.0% Conf. Int.]\n",
        "-------------------------------------------------------------------------------------\n",
        "Intercept            -0.9221      0.081    -11.413      0.000        -1.080    -0.764\n",
        "C(race, Sum)[S.B]     0.0030      0.114      0.026      0.979        -0.221     0.227\n",
        "C(race, Sum)[S.H]     0.5115      0.123      4.169      0.000         0.271     0.752\n",
        "=====================================================================================\n"
       ]
      },
      {
       "ename": "ValueError",
       "evalue": "endog must be in the unit interval.",
       "output_type": "pyerr",
       "traceback": [
        "\u001b[0;31m---------------------------------------------------------------------------\u001b[0m\n\u001b[0;31mValueError\u001b[0m                                Traceback (most recent call last)",
        "\u001b[0;32m<ipython-input-229-27ea23ea55e9>\u001b[0m in \u001b[0;36m<module>\u001b[0;34m()\u001b[0m\n\u001b[1;32m     18\u001b[0m     \u001b[0;32mprint\u001b[0m \u001b[0;34m'Probability of %s for whites is %2.3f; for non-whites is %2.3f; blacks %2.3f, hispanics %2.3f'\u001b[0m \u001b[0;34m%\u001b[0m \u001b[0;34m(\u001b[0m\u001b[0mcov\u001b[0m\u001b[0;34m,\u001b[0m \u001b[0mp_for_whites\u001b[0m\u001b[0;34m,\u001b[0m \u001b[0mp_for_not_whites\u001b[0m\u001b[0;34m,\u001b[0m \u001b[0mp_for_blacks\u001b[0m\u001b[0;34m,\u001b[0m \u001b[0mp_for_hispanics\u001b[0m\u001b[0;34m)\u001b[0m\u001b[0;34m\u001b[0m\u001b[0m\n\u001b[1;32m     19\u001b[0m \u001b[0;32mfor\u001b[0m \u001b[0mcov\u001b[0m \u001b[0;32min\u001b[0m \u001b[0mcovs_of_interest\u001b[0m\u001b[0;34m:\u001b[0m\u001b[0;34m\u001b[0m\u001b[0m\n\u001b[0;32m---> 20\u001b[0;31m     \u001b[0mmodel\u001b[0m \u001b[0;34m=\u001b[0m \u001b[0msm\u001b[0m\u001b[0;34m.\u001b[0m\u001b[0mLogit\u001b[0m\u001b[0;34m.\u001b[0m\u001b[0mfrom_formula\u001b[0m\u001b[0;34m(\u001b[0m\u001b[0;34m'%s ~ is_white'\u001b[0m \u001b[0;34m%\u001b[0m \u001b[0mcov\u001b[0m\u001b[0;34m,\u001b[0m \u001b[0mdata\u001b[0m \u001b[0;34m=\u001b[0m \u001b[0md\u001b[0m\u001b[0;34m)\u001b[0m\u001b[0;34m.\u001b[0m\u001b[0mfit\u001b[0m\u001b[0;34m(\u001b[0m\u001b[0;34m)\u001b[0m\u001b[0;34m\u001b[0m\u001b[0m\n\u001b[0m\u001b[1;32m     21\u001b[0m     \u001b[0;32mprint\u001b[0m \u001b[0mmodel\u001b[0m\u001b[0;34m.\u001b[0m\u001b[0msummary\u001b[0m\u001b[0;34m(\u001b[0m\u001b[0;34m)\u001b[0m\u001b[0;34m\u001b[0m\u001b[0m\n\u001b[1;32m     22\u001b[0m     \u001b[0mmodel\u001b[0m \u001b[0;34m=\u001b[0m \u001b[0msm\u001b[0m\u001b[0;34m.\u001b[0m\u001b[0mLogit\u001b[0m\u001b[0;34m.\u001b[0m\u001b[0mfrom_formula\u001b[0m\u001b[0;34m(\u001b[0m\u001b[0;34m'%s ~ C(race, Sum)'\u001b[0m \u001b[0;34m%\u001b[0m \u001b[0mcov\u001b[0m\u001b[0;34m,\u001b[0m \u001b[0mdata\u001b[0m \u001b[0;34m=\u001b[0m \u001b[0msmall_d\u001b[0m\u001b[0;34m)\u001b[0m\u001b[0;34m.\u001b[0m\u001b[0mfit\u001b[0m\u001b[0;34m(\u001b[0m\u001b[0;34m)\u001b[0m\u001b[0;34m\u001b[0m\u001b[0m\n",
        "\u001b[0;32m/Users/epierson/Library/Enthought/Canopy_64bit/User/lib/python2.7/site-packages/statsmodels-0.6.1-py2.7-macosx-10.6-x86_64.egg/statsmodels/base/model.pyc\u001b[0m in \u001b[0;36mfrom_formula\u001b[0;34m(cls, formula, data, subset, *args, **kwargs)\u001b[0m\n\u001b[1;32m    148\u001b[0m         kwargs.update({'missing_idx': missing_idx,\n\u001b[1;32m    149\u001b[0m                        'missing': missing})\n\u001b[0;32m--> 150\u001b[0;31m         \u001b[0mmod\u001b[0m \u001b[0;34m=\u001b[0m \u001b[0mcls\u001b[0m\u001b[0;34m(\u001b[0m\u001b[0mendog\u001b[0m\u001b[0;34m,\u001b[0m \u001b[0mexog\u001b[0m\u001b[0;34m,\u001b[0m \u001b[0;34m*\u001b[0m\u001b[0margs\u001b[0m\u001b[0;34m,\u001b[0m \u001b[0;34m**\u001b[0m\u001b[0mkwargs\u001b[0m\u001b[0;34m)\u001b[0m\u001b[0;34m\u001b[0m\u001b[0m\n\u001b[0m\u001b[1;32m    151\u001b[0m         \u001b[0mmod\u001b[0m\u001b[0;34m.\u001b[0m\u001b[0mformula\u001b[0m \u001b[0;34m=\u001b[0m \u001b[0mformula\u001b[0m\u001b[0;34m\u001b[0m\u001b[0m\n\u001b[1;32m    152\u001b[0m \u001b[0;34m\u001b[0m\u001b[0m\n",
        "\u001b[0;32m/Users/epierson/Library/Enthought/Canopy_64bit/User/lib/python2.7/site-packages/statsmodels-0.6.1-py2.7-macosx-10.6-x86_64.egg/statsmodels/discrete/discrete_model.pyc\u001b[0m in \u001b[0;36m__init__\u001b[0;34m(self, endog, exog, **kwargs)\u001b[0m\n\u001b[1;32m    402\u001b[0m         if (self.__class__.__name__ != 'MNLogit' and\n\u001b[1;32m    403\u001b[0m                 not np.all((self.endog >= 0) & (self.endog <= 1))):\n\u001b[0;32m--> 404\u001b[0;31m             \u001b[0;32mraise\u001b[0m \u001b[0mValueError\u001b[0m\u001b[0;34m(\u001b[0m\u001b[0;34m\"endog must be in the unit interval.\"\u001b[0m\u001b[0;34m)\u001b[0m\u001b[0;34m\u001b[0m\u001b[0m\n\u001b[0m\u001b[1;32m    405\u001b[0m \u001b[0;34m\u001b[0m\u001b[0m\n\u001b[1;32m    406\u001b[0m \u001b[0;34m\u001b[0m\u001b[0m\n",
        "\u001b[0;31mValueError\u001b[0m: endog must be in the unit interval."
       ]
      }
     ],
     "prompt_number": 229
    },
    {
     "cell_type": "code",
     "collapsed": false,
     "input": [
      "%matplotlib inline\n",
      "#Probability of signs_of_mental_illness for whites is 31.7; for non-whites is 18.7\n",
      "#Probability of is_unarmed for whites is 6.5; for non-whites is 12.1\n",
      "#Probability of is_attacking for whites is 80.8; for non-whites is 68.3\n",
      "\n",
      "from pylab import *\n",
      "bar([1, 2, 3], [31.7, 6.5, 19.2], width = .3, color = 'red')\n",
      "bar([1.3, 2.3, 3.3], [18.7, 12.1, 31.7], width = .3)\n",
      "\n",
      "show()"
     ],
     "language": "python",
     "metadata": {},
     "outputs": [
      {
       "metadata": {},
       "output_type": "display_data",
       "png": "[encoded data removed]",
       "text": [
        "<matplotlib.figure.Figure at 0x113346310>"
       ]
      }
     ],
     "prompt_number": 13
    },
    {
     "cell_type": "code",
     "collapsed": false,
     "input": [
      "p_white_mentally_ill = d['signs_of_mental_illness'][d['is_white'] == 1].mean()\n",
      "p_not_white_mentally_ill = d['signs_of_mental_illness'][d['is_white'] == 0].mean()\n",
      "print '%2.3f white are mentally ill; %2.3f not white are mentally ill' % (p_white_mentally_ill, p_not_white_mentally_ill)\n",
      "p_white_mentally_ill = d['is_unarmed'][d['is_white'] == 1].mean()\n",
      "p_not_white_mentally_ill = d['is_unarmed'][d['is_white'] == 0].mean()\n",
      "print '%2.3f white are unarmed; %2.3f not white are unarmed' % (p_white_mentally_ill, p_not_white_mentally_ill)\n",
      "p_white_mentally_ill = d['is_attacking'][d['is_white'] == 1].mean()\n",
      "p_not_white_mentally_ill = d['is_attacking'][d['is_white'] == 0].mean()\n",
      "print '%2.3f white are attacking; %2.3f not white are attacking' % (p_white_mentally_ill, p_not_white_mentally_ill)\n",
      "print d['age'][d['is_white'] == 1].mean(),  d['age'][d['is_white'] == 0].mean()\n",
      "ttest_ind(d['age'][d['is_white'] == 1].dropna(), d['age'][d['is_white'] == 0].dropna())"
     ],
     "language": "python",
     "metadata": {},
     "outputs": [
      {
       "output_type": "stream",
       "stream": "stdout",
       "text": [
        "0.317 white are mentally ill; 0.187 not white are mentally ill\n",
        "0.065 white are unarmed; 0.121 not white are unarmed\n",
        "0.808 white are attacking; 0.683 not white are attacking\n",
        "39.5546218487 33.7869198312\n"
       ]
      },
      {
       "metadata": {},
       "output_type": "pyout",
       "prompt_number": 37,
       "text": [
        "(6.9869828784612729, 5.2871065176742038e-12)"
       ]
      }
     ],
     "prompt_number": 37
    },
    {
     "cell_type": "code",
     "collapsed": false,
     "input": [
      "model = sm.OLS.from_formula('is_unarmed ~ C(race, Sum)', data = d).fit()\n",
      "print model.summary()\n",
      "model = sm.OLS.from_formula('is_unarmed ~ is_white', data = d).fit()\n",
      "print model.summary()"
     ],
     "language": "python",
     "metadata": {},
     "outputs": [
      {
       "output_type": "stream",
       "stream": "stdout",
       "text": [
        "                            OLS Regression Results                            \n",
        "==============================================================================\n",
        "Dep. Variable:             is_unarmed   R-squared:                       0.021\n",
        "Model:                            OLS   Adj. R-squared:                  0.016\n",
        "Method:                 Least Squares   F-statistic:                     3.971\n",
        "Date:                Sat, 26 Dec 2015   Prob (F-statistic):            0.00144\n",
        "Time:                        20:50:53   Log-Likelihood:                -177.18\n",
        "No. Observations:                 927   AIC:                             366.4\n",
        "Df Residuals:                     921   BIC:                             395.4\n",
        "Df Model:                           5                                         \n",
        "Covariance Type:            nonrobust                                         \n",
        "=====================================================================================\n",
        "                        coef    std err          t      P>|t|      [95.0% Conf. Int.]\n",
        "-------------------------------------------------------------------------------------\n",
        "Intercept             0.1194      0.026      4.678      0.000         0.069     0.170\n",
        "C(race, Sum)[S.A]    -0.1194      0.071     -1.675      0.094        -0.259     0.020\n",
        "C(race, Sum)[S.B]     0.0252      0.030      0.846      0.398        -0.033     0.083\n",
        "C(race, Sum)[S.H]    -0.0090      0.032     -0.284      0.777        -0.071     0.053\n",
        "C(race, Sum)[S.N]    -0.0083      0.084     -0.099      0.921        -0.173     0.156\n",
        "C(race, Sum)[S.O]     0.1663      0.069      2.409      0.016         0.031     0.302\n",
        "==============================================================================\n",
        "Omnibus:                      491.355   Durbin-Watson:                   2.137\n",
        "Prob(Omnibus):                  0.000   Jarque-Bera (JB):             2130.322\n",
        "Skew:                           2.640   Prob(JB):                         0.00\n",
        "Kurtosis:                       8.222   Cond. No.                         17.1\n",
        "==============================================================================\n",
        "\n",
        "Warnings:\n",
        "[1] Standard Errors assume that the covariance matrix of the errors is correctly specified.\n",
        "                            OLS Regression Results                            \n",
        "==============================================================================\n",
        "Dep. Variable:             is_unarmed   R-squared:                       0.009\n",
        "Model:                            OLS   Adj. R-squared:                  0.008\n",
        "Method:                 Least Squares   F-statistic:                     9.234\n",
        "Date:                Sat, 26 Dec 2015   Prob (F-statistic):            0.00244\n",
        "Time:                        20:50:54   Log-Likelihood:                -172.79\n",
        "No. Observations:                 965   AIC:                             349.6\n",
        "Df Residuals:                     963   BIC:                             359.3\n",
        "Df Model:                           1                                         \n",
        "Covariance Type:            nonrobust                                         \n",
        "====================================================================================\n",
        "                       coef    std err          t      P>|t|      [95.0% Conf. Int.]\n",
        "------------------------------------------------------------------------------------\n",
        "Intercept            0.1214      0.013      9.238      0.000         0.096     0.147\n",
        "is_white[T.True]    -0.0567      0.019     -3.039      0.002        -0.093    -0.020\n",
        "==============================================================================\n",
        "Omnibus:                      536.304   Durbin-Watson:                   2.132\n",
        "Prob(Omnibus):                  0.000   Jarque-Bera (JB):             2533.722\n",
        "Skew:                           2.757   Prob(JB):                         0.00\n",
        "Kurtosis:                       8.711   Cond. No.                         2.61\n",
        "==============================================================================\n",
        "\n",
        "Warnings:\n",
        "[1] Standard Errors assume that the covariance matrix of the errors is correctly specified.\n"
       ]
      }
     ],
     "prompt_number": 21
    },
    {
     "cell_type": "code",
     "collapsed": false,
     "input": [
      "model = sm.OLS.from_formula('is_attacking ~ C(race, Sum)', data = d).fit()\n",
      "print model.summary()\n",
      "model = sm.OLS.from_formula('is_attacking  ~ is_white', data = d).fit()\n",
      "print model.summary()"
     ],
     "language": "python",
     "metadata": {},
     "outputs": [
      {
       "output_type": "stream",
       "stream": "stdout",
       "text": [
        "                            OLS Regression Results                            \n",
        "==============================================================================\n",
        "Dep. Variable:           is_attacking   R-squared:                       0.032\n",
        "Model:                            OLS   Adj. R-squared:                  0.027\n",
        "Method:                 Least Squares   F-statistic:                     6.109\n",
        "Date:                Sat, 26 Dec 2015   Prob (F-statistic):           1.41e-05\n",
        "Time:                        20:58:01   Log-Likelihood:                -533.76\n",
        "No. Observations:                 927   AIC:                             1080.\n",
        "Df Residuals:                     921   BIC:                             1109.\n",
        "Df Model:                           5                                         \n",
        "Covariance Type:            nonrobust                                         \n",
        "=====================================================================================\n",
        "                        coef    std err          t      P>|t|      [95.0% Conf. Int.]\n",
        "-------------------------------------------------------------------------------------\n",
        "Intercept             0.7005      0.038     18.675      0.000         0.627     0.774\n",
        "C(race, Sum)[S.A]     0.0688      0.105      0.657      0.512        -0.137     0.274\n",
        "C(race, Sum)[S.B]     0.0144      0.044      0.330      0.742        -0.071     0.100\n",
        "C(race, Sum)[S.H]    -0.0992      0.047     -2.131      0.033        -0.191    -0.008\n",
        "C(race, Sum)[S.N]    -0.0338      0.123     -0.274      0.784        -0.276     0.208\n",
        "C(race, Sum)[S.O]    -0.0576      0.101     -0.568      0.570        -0.257     0.141\n",
        "==============================================================================\n",
        "Omnibus:                      168.826   Durbin-Watson:                   2.204\n",
        "Prob(Omnibus):                  0.000   Jarque-Bera (JB):              192.509\n",
        "Skew:                          -1.060   Prob(JB):                     1.58e-42\n",
        "Kurtosis:                       2.301   Cond. No.                         17.1\n",
        "==============================================================================\n",
        "\n",
        "Warnings:\n",
        "[1] Standard Errors assume that the covariance matrix of the errors is correctly specified.\n",
        "                            OLS Regression Results                            \n",
        "==============================================================================\n",
        "Dep. Variable:           is_attacking   R-squared:                       0.021\n",
        "Model:                            OLS   Adj. R-squared:                  0.019\n",
        "Method:                 Least Squares   F-statistic:                     20.16\n",
        "Date:                Sat, 26 Dec 2015   Prob (F-statistic):           8.00e-06\n",
        "Time:                        20:58:01   Log-Likelihood:                -557.82\n",
        "No. Observations:                 965   AIC:                             1120.\n",
        "Df Residuals:                     963   BIC:                             1129.\n",
        "Df Model:                           1                                         \n",
        "Covariance Type:            nonrobust                                         \n",
        "====================================================================================\n",
        "                       coef    std err          t      P>|t|      [95.0% Conf. Int.]\n",
        "------------------------------------------------------------------------------------\n",
        "Intercept            0.6831      0.020     34.879      0.000         0.645     0.722\n",
        "is_white[T.True]     0.1248      0.028      4.490      0.000         0.070     0.179\n",
        "==============================================================================\n",
        "Omnibus:                      182.491   Durbin-Watson:                   2.151\n",
        "Prob(Omnibus):                  0.000   Jarque-Bera (JB):              210.699\n",
        "Skew:                          -1.089   Prob(JB):                     1.77e-46\n",
        "Kurtosis:                       2.294   Cond. No.                         2.61\n",
        "==============================================================================\n",
        "\n",
        "Warnings:\n",
        "[1] Standard Errors assume that the covariance matrix of the errors is correctly specified.\n"
       ]
      }
     ],
     "prompt_number": 23
    },
    {
     "cell_type": "code",
     "collapsed": false,
     "input": [
      "incident_report = pd.read_csv('/Users/epierson/Desktop/offender_level/DS0003/data.csv')\n"
     ],
     "language": "python",
     "metadata": {},
     "outputs": [],
     "prompt_number": 81
    },
    {
     "cell_type": "code",
     "collapsed": false,
     "input": [
      "f = open('/Users/epierson/Desktop/offender_level/DS0003/crime_codes.txt')\n",
      "parity = 0\n",
      "crime_codes = {}\n",
      "for line in f:\n",
      "    if parity == 0:\n",
      "        parity = 1\n",
      "        numeric_val = int(line.replace('(M)', '').strip())\n",
      "        \n",
      "    else:\n",
      "        parity = 0\n",
      "        crime_codes[numeric_val] = line.strip()\n",
      "print crime_codes\n",
      "#incident_report['UCR OFFENSE CODE - 1'] = incident_report['UCR OFFENSE CODE - 1'].map(lambda x:crime_codes[x] if x in crime_codes else x)\n"
     ],
     "language": "python",
     "metadata": {},
     "outputs": [
      {
       "output_type": "stream",
       "stream": "stdout",
       "text": [
        "{641: 'Human Trafficking - Commercial Sex Acts', 642: 'Human Trafficking - Involuntary Servitude', 131: 'Aggravated Assault', 132: 'Simple Assault', 133: 'Intimidation', 262: 'Credit Card/Automatic Teller Machine Fraud', 263: 'Impersonation', 264: 'Welfare Fraud', 265: 'Wire Fraud', 394: 'Sports Tampering', 270: 'Embezzlement', 401: 'Prostitution', 402: 'Assisting or Promoting Prostitution', 403: 'Purchasing Prostitution', 280: 'Stolen Property Offenses', 520: 'Weapon Law Violations', 261: 'False Pretenses/Swindle/Confidence Game', 240: 'Motor Vehicle Theft', 290: 'Destruction/Damage/Vandalism of Property', 92: 'Negligent Manslaughter', 391: 'Betting/Wagering', 370: 'Pornography/Obscene Material', 392: 'Operating/Promoting/Assisting Gambling', 393: 'Gambling Equipment Violations', 200: 'Arson', -9: 'Undetermined', -6: 'Not applicable', 210: 'Extortion/Blackmail', 91: 'Murder/Nonnegligent Manslaughter', 220: 'Burglary/Breaking and Entering', 93: 'Justifiable Homicide', 351: 'Drug/Narcotic Violations', 352: 'Drug Equipment Violations', 100: 'Kidnaping/Abduction', 231: 'Pocket-picking', 232: 'Purse-snatching', 233: 'Shoplifting', 234: 'Theft From Building', 235: 'Theft From Coin-Operated Machine or Device', 236: 'Theft From Motor Vehicle', 237: 'Theft of Motor Vehicle Parts/Accessories', 238: 'All Other Larceny', 111: 'Rape', 112: 'Sodomy', 113: 'Sexual Assault With An Object', 114: 'Fondling (Indecent Liberties/Child Molesting)', 361: 'Incest', 120: 'Robbery', -7: 'Unknown/Missing/DNR', 250: 'Counterfeiting/Forgery', 362: 'Statutory Rape', 510: 'Bribery'}\n"
       ]
      },
      {
       "ename": "KeyboardInterrupt",
       "evalue": "",
       "output_type": "pyerr",
       "traceback": [
        "\u001b[0;31m---------------------------------------------------------------------------\u001b[0m\n\u001b[0;31mKeyboardInterrupt\u001b[0m                         Traceback (most recent call last)",
        "\u001b[0;32m<ipython-input-61-d442468fa9d3>\u001b[0m in \u001b[0;36m<module>\u001b[0;34m()\u001b[0m\n\u001b[1;32m     11\u001b[0m         \u001b[0mcrime_codes\u001b[0m\u001b[0;34m[\u001b[0m\u001b[0mnumeric_val\u001b[0m\u001b[0;34m]\u001b[0m \u001b[0;34m=\u001b[0m \u001b[0mline\u001b[0m\u001b[0;34m.\u001b[0m\u001b[0mstrip\u001b[0m\u001b[0;34m(\u001b[0m\u001b[0;34m)\u001b[0m\u001b[0;34m\u001b[0m\u001b[0m\n\u001b[1;32m     12\u001b[0m \u001b[0;32mprint\u001b[0m \u001b[0mcrime_codes\u001b[0m\u001b[0;34m\u001b[0m\u001b[0m\n\u001b[0;32m---> 13\u001b[0;31m \u001b[0mincident_report\u001b[0m\u001b[0;34m[\u001b[0m\u001b[0;34m'UCR OFFENSE CODE - 1'\u001b[0m\u001b[0;34m]\u001b[0m \u001b[0;34m=\u001b[0m \u001b[0mincident_report\u001b[0m\u001b[0;34m[\u001b[0m\u001b[0;34m'UCR OFFENSE CODE - 1'\u001b[0m\u001b[0;34m]\u001b[0m\u001b[0;34m.\u001b[0m\u001b[0mmap\u001b[0m\u001b[0;34m(\u001b[0m\u001b[0;32mlambda\u001b[0m \u001b[0mx\u001b[0m\u001b[0;34m:\u001b[0m\u001b[0mcrime_codes\u001b[0m\u001b[0;34m[\u001b[0m\u001b[0mx\u001b[0m\u001b[0;34m]\u001b[0m\u001b[0;34m)\u001b[0m\u001b[0;34m\u001b[0m\u001b[0m\n\u001b[0m",
        "\u001b[0;32m/Users/epierson/Library/Enthought/Canopy_64bit/User/lib/python2.7/site-packages/pandas/core/frame.pyc\u001b[0m in \u001b[0;36m__setitem__\u001b[0;34m(self, key, value)\u001b[0m\n\u001b[1;32m   2005\u001b[0m         \u001b[0;32melse\u001b[0m\u001b[0;34m:\u001b[0m\u001b[0;34m\u001b[0m\u001b[0m\n\u001b[1;32m   2006\u001b[0m             \u001b[0;31m# set column\u001b[0m\u001b[0;34m\u001b[0m\u001b[0;34m\u001b[0m\u001b[0m\n\u001b[0;32m-> 2007\u001b[0;31m             \u001b[0mself\u001b[0m\u001b[0;34m.\u001b[0m\u001b[0m_set_item\u001b[0m\u001b[0;34m(\u001b[0m\u001b[0mkey\u001b[0m\u001b[0;34m,\u001b[0m \u001b[0mvalue\u001b[0m\u001b[0;34m)\u001b[0m\u001b[0;34m\u001b[0m\u001b[0m\n\u001b[0m\u001b[1;32m   2008\u001b[0m \u001b[0;34m\u001b[0m\u001b[0m\n\u001b[1;32m   2009\u001b[0m     \u001b[0;32mdef\u001b[0m \u001b[0m_setitem_slice\u001b[0m\u001b[0;34m(\u001b[0m\u001b[0mself\u001b[0m\u001b[0;34m,\u001b[0m \u001b[0mkey\u001b[0m\u001b[0;34m,\u001b[0m \u001b[0mvalue\u001b[0m\u001b[0;34m)\u001b[0m\u001b[0;34m:\u001b[0m\u001b[0;34m\u001b[0m\u001b[0m\n",
        "\u001b[0;32m/Users/epierson/Library/Enthought/Canopy_64bit/User/lib/python2.7/site-packages/pandas/core/frame.pyc\u001b[0m in \u001b[0;36m_set_item\u001b[0;34m(self, key, value)\u001b[0m\n\u001b[1;32m   2084\u001b[0m         \u001b[0mself\u001b[0m\u001b[0;34m.\u001b[0m\u001b[0m_ensure_valid_index\u001b[0m\u001b[0;34m(\u001b[0m\u001b[0mvalue\u001b[0m\u001b[0;34m)\u001b[0m\u001b[0;34m\u001b[0m\u001b[0m\n\u001b[1;32m   2085\u001b[0m         \u001b[0mvalue\u001b[0m \u001b[0;34m=\u001b[0m \u001b[0mself\u001b[0m\u001b[0;34m.\u001b[0m\u001b[0m_sanitize_column\u001b[0m\u001b[0;34m(\u001b[0m\u001b[0mkey\u001b[0m\u001b[0;34m,\u001b[0m \u001b[0mvalue\u001b[0m\u001b[0;34m)\u001b[0m\u001b[0;34m\u001b[0m\u001b[0m\n\u001b[0;32m-> 2086\u001b[0;31m         \u001b[0mNDFrame\u001b[0m\u001b[0;34m.\u001b[0m\u001b[0m_set_item\u001b[0m\u001b[0;34m(\u001b[0m\u001b[0mself\u001b[0m\u001b[0;34m,\u001b[0m \u001b[0mkey\u001b[0m\u001b[0;34m,\u001b[0m \u001b[0mvalue\u001b[0m\u001b[0;34m)\u001b[0m\u001b[0;34m\u001b[0m\u001b[0m\n\u001b[0m\u001b[1;32m   2087\u001b[0m \u001b[0;34m\u001b[0m\u001b[0m\n\u001b[1;32m   2088\u001b[0m         \u001b[0;31m# check if we are modifying a copy\u001b[0m\u001b[0;34m\u001b[0m\u001b[0;34m\u001b[0m\u001b[0m\n",
        "\u001b[0;32m/Users/epierson/Library/Enthought/Canopy_64bit/User/lib/python2.7/site-packages/pandas/core/generic.pyc\u001b[0m in \u001b[0;36m_set_item\u001b[0;34m(self, key, value)\u001b[0m\n\u001b[1;32m   1137\u001b[0m \u001b[0;34m\u001b[0m\u001b[0m\n\u001b[1;32m   1138\u001b[0m     \u001b[0;32mdef\u001b[0m \u001b[0m_set_item\u001b[0m\u001b[0;34m(\u001b[0m\u001b[0mself\u001b[0m\u001b[0;34m,\u001b[0m \u001b[0mkey\u001b[0m\u001b[0;34m,\u001b[0m \u001b[0mvalue\u001b[0m\u001b[0;34m)\u001b[0m\u001b[0;34m:\u001b[0m\u001b[0;34m\u001b[0m\u001b[0m\n\u001b[0;32m-> 1139\u001b[0;31m         \u001b[0mself\u001b[0m\u001b[0;34m.\u001b[0m\u001b[0m_data\u001b[0m\u001b[0;34m.\u001b[0m\u001b[0mset\u001b[0m\u001b[0;34m(\u001b[0m\u001b[0mkey\u001b[0m\u001b[0;34m,\u001b[0m \u001b[0mvalue\u001b[0m\u001b[0;34m)\u001b[0m\u001b[0;34m\u001b[0m\u001b[0m\n\u001b[0m\u001b[1;32m   1140\u001b[0m         \u001b[0mself\u001b[0m\u001b[0;34m.\u001b[0m\u001b[0m_clear_item_cache\u001b[0m\u001b[0;34m(\u001b[0m\u001b[0;34m)\u001b[0m\u001b[0;34m\u001b[0m\u001b[0m\n\u001b[1;32m   1141\u001b[0m \u001b[0;34m\u001b[0m\u001b[0m\n",
        "\u001b[0;32m/Users/epierson/Library/Enthought/Canopy_64bit/User/lib/python2.7/site-packages/pandas/core/internals.pyc\u001b[0m in \u001b[0;36mset\u001b[0;34m(self, item, value, check)\u001b[0m\n\u001b[1;32m   2712\u001b[0m                 \u001b[0;32melse\u001b[0m\u001b[0;34m:\u001b[0m\u001b[0;34m\u001b[0m\u001b[0m\n\u001b[1;32m   2713\u001b[0m                     \u001b[0mself\u001b[0m\u001b[0;34m.\u001b[0m\u001b[0m_blklocs\u001b[0m\u001b[0;34m[\u001b[0m\u001b[0mblk\u001b[0m\u001b[0;34m.\u001b[0m\u001b[0mmgr_locs\u001b[0m\u001b[0;34m.\u001b[0m\u001b[0mindexer\u001b[0m\u001b[0;34m]\u001b[0m \u001b[0;34m=\u001b[0m \u001b[0;34m-\u001b[0m\u001b[0;36m1\u001b[0m\u001b[0;34m\u001b[0m\u001b[0m\n\u001b[0;32m-> 2714\u001b[0;31m                     \u001b[0mblk\u001b[0m\u001b[0;34m.\u001b[0m\u001b[0mdelete\u001b[0m\u001b[0;34m(\u001b[0m\u001b[0mblk_locs\u001b[0m\u001b[0;34m)\u001b[0m\u001b[0;34m\u001b[0m\u001b[0m\n\u001b[0m\u001b[1;32m   2715\u001b[0m                     \u001b[0mself\u001b[0m\u001b[0;34m.\u001b[0m\u001b[0m_blklocs\u001b[0m\u001b[0;34m[\u001b[0m\u001b[0mblk\u001b[0m\u001b[0;34m.\u001b[0m\u001b[0mmgr_locs\u001b[0m\u001b[0;34m.\u001b[0m\u001b[0mindexer\u001b[0m\u001b[0;34m]\u001b[0m \u001b[0;34m=\u001b[0m \u001b[0mnp\u001b[0m\u001b[0;34m.\u001b[0m\u001b[0marange\u001b[0m\u001b[0;34m(\u001b[0m\u001b[0mlen\u001b[0m\u001b[0;34m(\u001b[0m\u001b[0mblk\u001b[0m\u001b[0;34m)\u001b[0m\u001b[0;34m)\u001b[0m\u001b[0;34m\u001b[0m\u001b[0m\n\u001b[1;32m   2716\u001b[0m \u001b[0;34m\u001b[0m\u001b[0m\n",
        "\u001b[0;32m/Users/epierson/Library/Enthought/Canopy_64bit/User/lib/python2.7/site-packages/pandas/core/internals.pyc\u001b[0m in \u001b[0;36mdelete\u001b[0;34m(self, loc)\u001b[0m\n\u001b[1;32m    223\u001b[0m         \u001b[0mDelete\u001b[0m \u001b[0mgiven\u001b[0m \u001b[0mloc\u001b[0m\u001b[0;34m(\u001b[0m\u001b[0;34m-\u001b[0m\u001b[0ms\u001b[0m\u001b[0;34m)\u001b[0m \u001b[0;32mfrom\u001b[0m \u001b[0mblock\u001b[0m \u001b[0;32min\u001b[0m\u001b[0;34m-\u001b[0m\u001b[0mplace\u001b[0m\u001b[0;34m.\u001b[0m\u001b[0;34m\u001b[0m\u001b[0m\n\u001b[1;32m    224\u001b[0m         \"\"\"\n\u001b[0;32m--> 225\u001b[0;31m         \u001b[0mself\u001b[0m\u001b[0;34m.\u001b[0m\u001b[0mvalues\u001b[0m \u001b[0;34m=\u001b[0m \u001b[0mnp\u001b[0m\u001b[0;34m.\u001b[0m\u001b[0mdelete\u001b[0m\u001b[0;34m(\u001b[0m\u001b[0mself\u001b[0m\u001b[0;34m.\u001b[0m\u001b[0mvalues\u001b[0m\u001b[0;34m,\u001b[0m \u001b[0mloc\u001b[0m\u001b[0;34m,\u001b[0m \u001b[0;36m0\u001b[0m\u001b[0;34m)\u001b[0m\u001b[0;34m\u001b[0m\u001b[0m\n\u001b[0m\u001b[1;32m    226\u001b[0m         \u001b[0mself\u001b[0m\u001b[0;34m.\u001b[0m\u001b[0mmgr_locs\u001b[0m \u001b[0;34m=\u001b[0m \u001b[0mself\u001b[0m\u001b[0;34m.\u001b[0m\u001b[0mmgr_locs\u001b[0m\u001b[0;34m.\u001b[0m\u001b[0mdelete\u001b[0m\u001b[0;34m(\u001b[0m\u001b[0mloc\u001b[0m\u001b[0;34m)\u001b[0m\u001b[0;34m\u001b[0m\u001b[0m\n\u001b[1;32m    227\u001b[0m \u001b[0;34m\u001b[0m\u001b[0m\n",
        "\u001b[0;32m/Users/epierson/Library/Enthought/Canopy_64bit/User/lib/python2.7/site-packages/numpy/lib/function_base.pyc\u001b[0m in \u001b[0;36mdelete\u001b[0;34m(arr, obj, axis)\u001b[0m\n\u001b[1;32m   3878\u001b[0m         \u001b[0mkeep\u001b[0m\u001b[0;34m[\u001b[0m\u001b[0mobj\u001b[0m\u001b[0;34m,\u001b[0m \u001b[0;34m]\u001b[0m \u001b[0;34m=\u001b[0m \u001b[0mFalse\u001b[0m\u001b[0;34m\u001b[0m\u001b[0m\n\u001b[1;32m   3879\u001b[0m         \u001b[0mslobj\u001b[0m\u001b[0;34m[\u001b[0m\u001b[0maxis\u001b[0m\u001b[0;34m]\u001b[0m \u001b[0;34m=\u001b[0m \u001b[0mkeep\u001b[0m\u001b[0;34m\u001b[0m\u001b[0m\n\u001b[0;32m-> 3880\u001b[0;31m         \u001b[0mnew\u001b[0m \u001b[0;34m=\u001b[0m \u001b[0marr\u001b[0m\u001b[0;34m[\u001b[0m\u001b[0mslobj\u001b[0m\u001b[0;34m]\u001b[0m\u001b[0;34m\u001b[0m\u001b[0m\n\u001b[0m\u001b[1;32m   3881\u001b[0m \u001b[0;34m\u001b[0m\u001b[0m\n\u001b[1;32m   3882\u001b[0m     \u001b[0;32mif\u001b[0m \u001b[0mwrap\u001b[0m\u001b[0;34m:\u001b[0m\u001b[0;34m\u001b[0m\u001b[0m\n",
        "\u001b[0;31mKeyboardInterrupt\u001b[0m: "
       ]
      }
     ],
     "prompt_number": 61
    },
    {
     "cell_type": "code",
     "collapsed": false,
     "input": [
      "incident_report['had_weapon'] = (incident_report['WEAPON / FORCE 1 - 1'] <= 900) &  (incident_report['WEAPON / FORCE 1 - 1'] >= 0)\n",
      "incident_report['had_gun'] = incident_report['had_weapon']  & (incident_report['WEAPON / FORCE 1 - 1'] <= 151)"
     ],
     "language": "python",
     "metadata": {},
     "outputs": [],
     "prompt_number": 97
    },
    {
     "cell_type": "code",
     "collapsed": false,
     "input": [
      "Counter(incident_report['RACE OF OFFENDER'])"
     ],
     "language": "python",
     "metadata": {},
     "outputs": [
      {
       "metadata": {},
       "output_type": "pyout",
       "prompt_number": 82,
       "text": [
        "Counter({-7: 2299516, 1: 2215013, 2: 1129855, 3: 36023, 4: 25695, 5: 330})"
       ]
      }
     ],
     "prompt_number": 82
    },
    {
     "cell_type": "code",
     "collapsed": false,
     "input": [
      "Counter(incident_report['WEAPON / FORCE 1 - 1'])"
     ],
     "language": "python",
     "metadata": {},
     "outputs": [
      {
       "metadata": {},
       "output_type": "pyout",
       "prompt_number": 31,
       "text": [
        "Counter({-9: 4493334, 400: 765892, 990: 113835, 120: 83640, 900: 68465, 200: 53925, 300: 33646, -7: 29136, 110: 25301, 350: 11914, 121: 7272, 140: 5766, 130: 4135, 150: 3748, 850: 1653, 111: 1257, 600: 1243, 700: 706, 650: 682, 131: 392, 500: 205, 151: 190, 141: 95})"
       ]
      }
     ],
     "prompt_number": 31
    },
    {
     "cell_type": "code",
     "collapsed": false,
     "input": [
      "Counter(incident_report['STATE ABBREVIATION'])"
     ],
     "language": "python",
     "metadata": {},
     "outputs": [
      {
       "metadata": {},
       "output_type": "pyout",
       "prompt_number": 34,
       "text": [
        "Counter({'MI': 596883, 'OH': 555088, 'TN': 548149, 'VA': 473336, 'SC': 416278, 'WA': 333652, 'CO': 286616, 'MA': 250285, 'AR': 228166, 'TX': 221568, 'UT': 171987, 'KY': 166934, 'KS': 164345, 'IA': 148962, 'WI': 135151, 'CT': 102100, 'OR': 85401, 'ID': 79675, 'DE': 76752, 'WV': 75234, 'MO': 73014, 'OK': 69601, 'NH': 69000, 'RI': 54902, 'MT': 53944, 'LA': 42483, 'SD': 39034, 'ND': 38873, 'NB': 34020, 'VT': 25996, 'AZ': 22466, 'IL': 19538, 'ME': 19261, 'MS': 17976, 'AL': 4875, 'DC': 4815, 'IN': 72})"
       ]
      }
     ],
     "prompt_number": 34
    },
    {
     "cell_type": "code",
     "collapsed": false,
     "input": [
      "crime_counts = Counter(incident_report['UCR OFFENSE CODE - 1'])"
     ],
     "language": "python",
     "metadata": {},
     "outputs": [],
     "prompt_number": 62
    },
    {
     "cell_type": "code",
     "collapsed": false,
     "input": [
      "weapon_frequencies = incident_report[['had_weapon', 'UCR OFFENSE CODE - 1']].groupby('UCR OFFENSE CODE - 1').mean()\n",
      "\n"
     ],
     "language": "python",
     "metadata": {},
     "outputs": [
      {
       "output_type": "stream",
       "stream": "stdout",
       "text": [
        "Simple Assault                                       762358 0.615 0.365 0.885 0.898 0.000 0.000\n",
        "Aggravated Assault                                   194503 0.548 0.431 0.948 0.969 0.147 0.284"
       ]
      },
      {
       "output_type": "stream",
       "stream": "stdout",
       "text": [
        "\n",
        "Robbery                                              112362 0.263 0.727 0.876 0.909 0.308 0.508"
       ]
      },
      {
       "output_type": "stream",
       "stream": "stdout",
       "text": [
        "\n",
        "Weapon Law Violations                                 47901 0.578 0.408 0.941 0.957 0.573 0.771"
       ]
      },
      {
       "output_type": "stream",
       "stream": "stdout",
       "text": [
        "\n",
        "Fondling (Indecent Liberties/Child Molesting)         32223 0.760 0.220 0.648 0.661 0.002 0.008"
       ]
      },
      {
       "output_type": "stream",
       "stream": "stdout",
       "text": [
        "\n",
        "Rape                                                  29727 0.670 0.312 0.653 0.670 0.008 0.044"
       ]
      },
      {
       "output_type": "stream",
       "stream": "stdout",
       "text": [
        "\n",
        "Kidnaping/Abduction                                   17299 0.597 0.382 0.753 0.785 0.088 0.224"
       ]
      },
      {
       "output_type": "stream",
       "stream": "stdout",
       "text": [
        "\n",
        "Sodomy                                                 7113 0.687 0.301 0.606 0.637 0.005 0.027"
       ]
      },
      {
       "output_type": "stream",
       "stream": "stdout",
       "text": [
        "\n",
        "Murder/Nonnegligent Manslaughter                       4617 0.410 0.570 0.938 0.958 0.511 0.782"
       ]
      },
      {
       "output_type": "stream",
       "stream": "stdout",
       "text": [
        "\n",
        "Sexual Assault With An Object                          3008 0.778 0.210 0.719 0.727 0.010 0.048"
       ]
      },
      {
       "output_type": "stream",
       "stream": "stdout",
       "text": [
        "\n",
        "Extortion/Blackmail                                    1492 0.682 0.292 0.311 0.296 0.025 0.014"
       ]
      },
      {
       "output_type": "stream",
       "stream": "stdout",
       "text": [
        "\n",
        "Negligent Manslaughter                                  288 0.741 0.217 0.882 0.877 0.185 0.228"
       ]
      },
      {
       "output_type": "stream",
       "stream": "stdout",
       "text": [
        "\n",
        "Justifiable Homicide                                    206 0.694 0.301 0.979 1.000 0.951 0.871"
       ]
      },
      {
       "output_type": "stream",
       "stream": "stdout",
       "text": [
        "\n"
       ]
      }
     ],
     "prompt_number": 98
    },
    {
     "cell_type": "code",
     "collapsed": false,
     "input": [
      "\n",
      "weapon_offenses = list(set(weapon_frequencies[weapon_frequencies['had_weapon'] > 0].index))\n",
      "weapon_offense_idxs = incident_report['UCR OFFENSE CODE - 1'].map(lambda x:x in weapon_offenses)\n",
      "race_known_idxs = incident_report['RACE OF OFFENDER'].map(lambda x:x in [1, 2, 3, 4])\n",
      "sex_known_idxs = incident_report['SEX OF OFFENDER'].map(lambda x:x >= 0)\n",
      "good_idxs = weapon_offense_idxs & race_known_idxs & sex_known_idxs\n",
      "incident_report['had_weapon'] = incident_report['had_weapon'] * 1.\n",
      "incident_report['had_gun'] = incident_report['had_gun'] * 1.\n",
      "\n",
      "covs = ['UCR OFFENSE CODE - 1', 'RACE OF OFFENDER', 'SEX OF OFFENDER', 'AGE OF OFFENDER']\n",
      "new_cov_names = []\n",
      "for cov in covs:\n",
      "    new_name = cov.replace(' ', '_').replace('-', '')\n",
      "    new_cov_names.append(new_name)\n",
      "    incident_report[new_name] = incident_report[cov]\n",
      "small_d = pd.DataFrame(index = incident_report.index[good_idxs])\n",
      "for cov in new_cov_names + ['had_weapon', 'had_gun']:\n",
      "    small_d[cov] = incident_report[cov].loc[good_idxs]\n",
      "#small_d.index = incident_report[]\n"
     ],
     "language": "python",
     "metadata": {},
     "outputs": [],
     "prompt_number": 183
    },
    {
     "cell_type": "code",
     "collapsed": false,
     "input": [
      "#hispanic latino data not really available. \n",
      "#Counter(incident_report['ETHNICITY OF OFFENDER'].loc[weapon_offense_idxs])"
     ],
     "language": "python",
     "metadata": {},
     "outputs": [
      {
       "metadata": {},
       "output_type": "pyout",
       "prompt_number": 181,
       "text": [
        "Counter({-9: 1161054, -7: 49276, 0: 2541, 1: 227})"
       ]
      }
     ],
     "prompt_number": 181
    },
    {
     "cell_type": "code",
     "collapsed": false,
     "input": [
      "cov_string = []\n",
      "categorical_covs = ['UCR_OFFENSE_CODE__1', 'RACE_OF_OFFENDER']#, 'RACE OF \n",
      "for cov in new_cov_names:\n",
      "    if cov in categorical_covs:\n",
      "        cov_string.append('C(%s, Sum)' % cov)\n",
      "    else:\n",
      "        cov_string.append(cov)\n",
      "        \n",
      "model = sm.OLS.from_formula('had_weapon ~ %s' \n",
      "                            % '+'.join(cov_string), \n",
      "                            data = small_d).fit()\n",
      "print model.summary()\n",
      "model = sm.OLS.from_formula('had_gun ~ %s' \n",
      "                            % '+'.join(cov_string), \n",
      "                            data = small_d).fit()\n",
      "print model.summary()"
     ],
     "language": "python",
     "metadata": {},
     "outputs": [
      {
       "output_type": "stream",
       "stream": "stdout",
       "text": [
        "                            OLS Regression Results                            \n",
        "==============================================================================\n",
        "Dep. Variable:             had_weapon   R-squared:                       0.046\n",
        "Model:                            OLS   Adj. R-squared:                  0.046\n",
        "Method:                 Least Squares   F-statistic:                     3002.\n",
        "Date:                Sun, 27 Dec 2015   Prob (F-statistic):               0.00\n",
        "Time:                        20:47:32   Log-Likelihood:            -2.6735e+05\n",
        "No. Observations:             1113971   AIC:                         5.347e+05\n",
        "Df Residuals:                 1113952   BIC:                         5.350e+05\n",
        "Df Model:                          18                                         \n",
        "Covariance Type:            nonrobust                                         \n",
        "======================================================================================================\n",
        "                                         coef    std err          t      P>|t|      [95.0% Conf. Int.]\n",
        "------------------------------------------------------------------------------------------------------\n",
        "Intercept                              0.8126      0.022     36.722      0.000         0.769     0.856\n",
        "C(UCR_OFFENSE_CODE__1, Sum)[S.91]      0.1429      0.023      6.335      0.000         0.099     0.187\n",
        "C(UCR_OFFENSE_CODE__1, Sum)[S.92]      0.0857      0.028      3.036      0.002         0.030     0.141\n",
        "C(UCR_OFFENSE_CODE__1, Sum)[S.93]      0.1851      0.030      6.234      0.000         0.127     0.243\n",
        "C(UCR_OFFENSE_CODE__1, Sum)[S.100]    -0.0377      0.022     -1.699      0.089        -0.081     0.006\n",
        "C(UCR_OFFENSE_CODE__1, Sum)[S.111]    -0.1427      0.022     -6.438      0.000        -0.186    -0.099\n",
        "C(UCR_OFFENSE_CODE__1, Sum)[S.112]    -0.1864      0.022     -8.331      0.000        -0.230    -0.143\n",
        "C(UCR_OFFENSE_CODE__1, Sum)[S.113]    -0.0790      0.023     -3.468      0.001        -0.124    -0.034\n",
        "C(UCR_OFFENSE_CODE__1, Sum)[S.114]    -0.1494      0.022     -6.743      0.000        -0.193    -0.106\n",
        "C(UCR_OFFENSE_CODE__1, Sum)[S.120]     0.0904      0.022      4.087      0.000         0.047     0.134\n",
        "C(UCR_OFFENSE_CODE__1, Sum)[S.131]     0.1535      0.022      6.945      0.000         0.110     0.197\n",
        "C(UCR_OFFENSE_CODE__1, Sum)[S.132]     0.0871      0.022      3.945      0.000         0.044     0.130\n",
        "C(UCR_OFFENSE_CODE__1, Sum)[S.210]    -0.4984      0.024    -20.812      0.000        -0.545    -0.451\n",
        "C(UCR_OFFENSE_CODE__1, Sum)[S.520]     0.1446      0.022      6.532      0.000         0.101     0.188\n",
        "C(RACE_OF_OFFENDER, Sum)[S.1]         -0.0074      0.001     -6.682      0.000        -0.010    -0.005\n",
        "C(RACE_OF_OFFENDER, Sum)[S.2]          0.0082      0.001      7.288      0.000         0.006     0.010\n",
        "C(RACE_OF_OFFENDER, Sum)[S.3]         -0.0094      0.002     -4.209      0.000        -0.014    -0.005\n",
        "SEX_OF_OFFENDER                       -0.0028      0.001     -4.103      0.000        -0.004    -0.001\n",
        "AGE_OF_OFFENDER                       -0.0002   2.01e-05    -10.187      0.000        -0.000    -0.000\n",
        "==============================================================================\n",
        "Omnibus:                   491846.161   Durbin-Watson:                   1.178\n",
        "Prob(Omnibus):                  0.000   Jarque-Bera (JB):          1761492.569\n",
        "Skew:                          -2.340   Prob(JB):                         0.00\n",
        "Kurtosis:                       7.007   Cond. No.                     9.20e+03\n",
        "==============================================================================\n",
        "\n",
        "Warnings:\n",
        "[1] Standard Errors assume that the covariance matrix of the errors is correctly specified.\n",
        "[2] The condition number is large, 9.2e+03. This might indicate that there are\n",
        "strong multicollinearity or other numerical problems.\n",
        "                            OLS Regression Results                            \n",
        "==============================================================================\n",
        "Dep. Variable:                had_gun   R-squared:                       0.362\n",
        "Model:                            OLS   Adj. R-squared:                  0.362\n",
        "Method:                 Least Squares   F-statistic:                 3.515e+04\n",
        "Date:                Sun, 27 Dec 2015   Prob (F-statistic):               0.00\n",
        "Time:                        20:47:41   Log-Likelihood:                 14226.\n",
        "No. Observations:             1113971   AIC:                        -2.841e+04\n",
        "Df Residuals:                 1113952   BIC:                        -2.819e+04\n",
        "Df Model:                          18                                         \n",
        "Covariance Type:            nonrobust                                         \n",
        "======================================================================================================\n",
        "                                         coef    std err          t      P>|t|      [95.0% Conf. Int.]\n",
        "------------------------------------------------------------------------------------------------------\n",
        "Intercept                              0.2140      0.017     12.451      0.000         0.180     0.248\n",
        "C(UCR_OFFENSE_CODE__1, Sum)[S.91]      0.4160      0.018     23.740      0.000         0.382     0.450\n",
        "C(UCR_OFFENSE_CODE__1, Sum)[S.92]     -0.0235      0.022     -1.071      0.284        -0.066     0.019\n",
        "C(UCR_OFFENSE_CODE__1, Sum)[S.93]      0.6916      0.023     29.990      0.000         0.646     0.737\n",
        "C(UCR_OFFENSE_CODE__1, Sum)[S.100]    -0.0982      0.017     -5.696      0.000        -0.132    -0.064\n",
        "C(UCR_OFFENSE_CODE__1, Sum)[S.111]    -0.2209      0.017    -12.837      0.000        -0.255    -0.187\n",
        "C(UCR_OFFENSE_CODE__1, Sum)[S.112]    -0.2274      0.017    -13.083      0.000        -0.261    -0.193\n",
        "C(UCR_OFFENSE_CODE__1, Sum)[S.113]    -0.2144      0.018    -12.114      0.000        -0.249    -0.180\n",
        "C(UCR_OFFENSE_CODE__1, Sum)[S.114]    -0.2295      0.017    -13.335      0.000        -0.263    -0.196\n",
        "C(UCR_OFFENSE_CODE__1, Sum)[S.120]     0.1915      0.017     11.155      0.000         0.158     0.225\n",
        "C(UCR_OFFENSE_CODE__1, Sum)[S.131]    -0.0326      0.017     -1.900      0.057        -0.066     0.001\n",
        "C(UCR_OFFENSE_CODE__1, Sum)[S.132]    -0.2316      0.017    -13.496      0.000        -0.265    -0.198\n",
        "C(UCR_OFFENSE_CODE__1, Sum)[S.210]    -0.2073      0.019    -11.144      0.000        -0.244    -0.171\n",
        "C(UCR_OFFENSE_CODE__1, Sum)[S.520]     0.4101      0.017     23.856      0.000         0.376     0.444\n",
        "C(RACE_OF_OFFENDER, Sum)[S.1]         -0.0065      0.001     -7.491      0.000        -0.008    -0.005\n",
        "C(RACE_OF_OFFENDER, Sum)[S.2]          0.0398      0.001     45.331      0.000         0.038     0.042\n",
        "C(RACE_OF_OFFENDER, Sum)[S.3]         -0.0261      0.002    -15.018      0.000        -0.029    -0.023\n",
        "SEX_OF_OFFENDER                        0.0338      0.001     63.643      0.000         0.033     0.035\n",
        "AGE_OF_OFFENDER                       -0.0005   1.56e-05    -33.900      0.000        -0.001    -0.000\n",
        "==============================================================================\n",
        "Omnibus:                   251017.337   Durbin-Watson:                   1.382\n",
        "Prob(Omnibus):                  0.000   Jarque-Bera (JB):           879666.575\n",
        "Skew:                           1.117   Prob(JB):                         0.00\n",
        "Kurtosis:                       6.736   Cond. No.                     9.20e+03\n",
        "==============================================================================\n",
        "\n",
        "Warnings:\n",
        "[1] Standard Errors assume that the covariance matrix of the errors is correctly specified.\n",
        "[2] The condition number is large, 9.2e+03. This might indicate that there are\n",
        "strong multicollinearity or other numerical problems."
       ]
      },
      {
       "output_type": "stream",
       "stream": "stdout",
       "text": [
        "\n"
       ]
      }
     ],
     "prompt_number": 184
    },
    {
     "cell_type": "code",
     "collapsed": false,
     "input": [
      "for c in sorted(crime_counts, key = lambda x:crime_counts[x])[::-1][:100]:\n",
      "    if float(weapon_frequencies.loc[c]) < .05:\n",
      "        continue\n",
      "    if crime_counts[c] < 200:\n",
      "        continue\n",
      "    idxs = (good_idxs) & (incident_report['UCR_OFFENSE_CODE__1'] == c)\n",
      "    white_idxs = idxs & (incident_report['RACE OF OFFENDER'] == 1)\n",
      "    black_idxs = idxs & (incident_report['RACE OF OFFENDER'] == 2)\n",
      "    race_counts = Counter(incident_report['RACE OF OFFENDER'].loc[idxs])        \n",
      "    white_frac = 1.*race_counts[1] / sum(race_counts.values())\n",
      "    black_frac = 1.*race_counts[2] / sum(race_counts.values())\n",
      "    white_had_weapon = incident_report['had_weapon'].loc[white_idxs].mean()\n",
      "    black_had_weapon = incident_report['had_weapon'].loc[black_idxs].mean()\n",
      "    white_had_gun = incident_report['had_gun'].loc[white_idxs].mean()\n",
      "    black_had_gun = incident_report['had_gun'].loc[black_idxs].mean()\n",
      "    print '%-50s %8i %2.3f %2.3f %2.3f %2.3f %2.3f %2.3f' % (crime_codes[c], crime_counts[c], white_frac, black_frac, white_had_weapon, black_had_weapon, white_had_gun, black_had_gun)"
     ],
     "language": "python",
     "metadata": {},
     "outputs": [
      {
       "output_type": "stream",
       "stream": "stdout",
       "text": [
        "Simple Assault                                       762358 0.615 0.365 0.885 0.898 0.000 0.000\n",
        "Aggravated Assault                                   194503 0.548 0.431 0.948 0.969 0.147 0.283"
       ]
      },
      {
       "output_type": "stream",
       "stream": "stdout",
       "text": [
        "\n",
        "Robbery                                              112362 0.263 0.727 0.876 0.909 0.308 0.508"
       ]
      },
      {
       "output_type": "stream",
       "stream": "stdout",
       "text": [
        "\n",
        "Weapon Law Violations                                 47901 0.578 0.408 0.941 0.957 0.573 0.771"
       ]
      },
      {
       "output_type": "stream",
       "stream": "stdout",
       "text": [
        "\n",
        "Fondling (Indecent Liberties/Child Molesting)         32223 0.760 0.220 0.648 0.662 0.002 0.008"
       ]
      },
      {
       "output_type": "stream",
       "stream": "stdout",
       "text": [
        "\n",
        "Rape                                                  29727 0.670 0.312 0.654 0.670 0.008 0.044"
       ]
      },
      {
       "output_type": "stream",
       "stream": "stdout",
       "text": [
        "\n",
        "Kidnaping/Abduction                                   17299 0.597 0.382 0.754 0.785 0.088 0.223"
       ]
      },
      {
       "output_type": "stream",
       "stream": "stdout",
       "text": [
        "\n",
        "Sodomy                                                 7113 0.687 0.301 0.605 0.637 0.005 0.027"
       ]
      },
      {
       "output_type": "stream",
       "stream": "stdout",
       "text": [
        "\n",
        "Murder/Nonnegligent Manslaughter                       4617 0.410 0.570 0.938 0.958 0.511 0.782"
       ]
      },
      {
       "output_type": "stream",
       "stream": "stdout",
       "text": [
        "\n",
        "Sexual Assault With An Object                          3008 0.778 0.210 0.719 0.727 0.010 0.048"
       ]
      },
      {
       "output_type": "stream",
       "stream": "stdout",
       "text": [
        "\n",
        "Extortion/Blackmail                                    1492 0.682 0.292 0.311 0.296 0.025 0.014"
       ]
      },
      {
       "output_type": "stream",
       "stream": "stdout",
       "text": [
        "\n",
        "Negligent Manslaughter                                  288 0.741 0.217 0.882 0.877 0.185 0.228"
       ]
      },
      {
       "output_type": "stream",
       "stream": "stdout",
       "text": [
        "\n",
        "Justifiable Homicide                                    206 0.694 0.301 0.979 1.000 0.951 0.871"
       ]
      },
      {
       "output_type": "stream",
       "stream": "stdout",
       "text": [
        "\n"
       ]
      }
     ],
     "prompt_number": 188
    },
    {
     "cell_type": "code",
     "collapsed": false,
     "input": [
      "white_overall = good_idxs & (incident_report['RACE OF OFFENDER'] == 1)\n",
      "black_overall = good_idxs & (incident_report['RACE OF OFFENDER'] == 2)\n",
      "\n",
      "white_had_gun_overall = incident_report['had_gun'].loc[white_overall].mean()\n",
      "black_had_gun_overall = incident_report['had_gun'].loc[black_overall].mean()\n",
      "white_had_weapon_overall = incident_report['had_weapon'].loc[white_overall].mean()\n",
      "black_had_weapon_overall = incident_report['had_weapon'].loc[black_overall].mean()\n",
      "print white_had_gun_overall, black_had_gun_overall\n",
      "print  white_had_weapon_overall, black_had_weapon_overall"
     ],
     "language": "python",
     "metadata": {},
     "outputs": [
      {
       "output_type": "stream",
       "stream": "stdout",
       "text": [
        "0.0578810984367 0.161469456545\n",
        "0.877449815939 0.903935582535\n"
       ]
      }
     ],
     "prompt_number": 193
    },
    {
     "cell_type": "code",
     "collapsed": false,
     "input": [
      "incident_report['had_gun'][incident_report['RACE OF OFFENDER'] == 1].mean()"
     ],
     "language": "python",
     "metadata": {},
     "outputs": [
      {
       "metadata": {},
       "output_type": "pyout",
       "prompt_number": 194,
       "text": [
        "0.016846853720497351"
       ]
      }
     ],
     "prompt_number": 194
    },
    {
     "cell_type": "code",
     "collapsed": false,
     "input": [
      "incident_report['had_gun'][incident_report['RACE OF OFFENDER'] == 2].mean()"
     ],
     "language": "python",
     "metadata": {},
     "outputs": [
      {
       "metadata": {},
       "output_type": "pyout",
       "prompt_number": 195,
       "text": [
        "0.064258688061742439"
       ]
      }
     ],
     "prompt_number": 195
    },
    {
     "cell_type": "code",
     "collapsed": false,
     "input": [
      "Counter(incident_report['ALL OFFENSE CODES FOR THE INCIDENT'].map(lambda x:len(str(x).split())))"
     ],
     "language": "python",
     "metadata": {},
     "outputs": [
      {
       "metadata": {},
       "output_type": "pyout",
       "prompt_number": 238,
       "text": [
        "Counter({1: 5035923, 2: 598332, 3: 62948, 4: 7861, 5: 1195, 6: 151, 7: 16, 9: 5, 8: 1})"
       ]
      }
     ],
     "prompt_number": 238
    },
    {
     "cell_type": "code",
     "collapsed": false,
     "input": [
      "type(incident_report['ALL OFFENSE CODES FOR THE INCIDENT'].iloc[0])"
     ],
     "language": "python",
     "metadata": {},
     "outputs": [
      {
       "metadata": {},
       "output_type": "pyout",
       "prompt_number": 240,
       "text": [
        "str"
       ]
      }
     ],
     "prompt_number": 240
    },
    {
     "cell_type": "code",
     "collapsed": false,
     "input": [
      "schedule_b = pd.read_csv('/Users/epierson/Desktop/category_B_violations/DS0008/data.csv', sep = ',')"
     ],
     "language": "python",
     "metadata": {},
     "outputs": [
      {
       "output_type": "stream",
       "stream": "stderr",
       "text": [
        "/Users/epierson/Library/Enthought/Canopy_64bit/User/lib/python2.7/site-packages/pandas/io/parsers.py:1139: DtypeWarning: Columns (6,9,10) have mixed types. Specify dtype option on import or set low_memory=False.\n",
        "  data = self._reader.read(nrows)\n"
       ]
      }
     ],
     "prompt_number": 246
    },
    {
     "cell_type": "code",
     "collapsed": false,
     "input": [
      "len(schedule_b)"
     ],
     "language": "python",
     "metadata": {},
     "outputs": [
      {
       "metadata": {},
       "output_type": "pyout",
       "prompt_number": 248,
       "text": [
        "1684039"
       ]
      }
     ],
     "prompt_number": 248
    },
    {
     "cell_type": "code",
     "collapsed": false,
     "input": [
      "Counter(schedule_b['WEAPON 1'])"
     ],
     "language": "python",
     "metadata": {},
     "outputs": [
      {
       "metadata": {},
       "output_type": "pyout",
       "prompt_number": 251,
       "text": [
        "Counter({'01': 1347872, 1: 324095, '16': 4136, '12': 1285, 15: 1198, 16: 1031, '14': 852, '11': 735, '13': 521, 13: 442, 14: 352, '15': 351, '17': 345, 12: 344, '12A': 147, 11: 138, 17: 80, '11A': 62, '14A': 28, '13A': 14, '15A': 11})"
       ]
      }
     ],
     "prompt_number": 251
    },
    {
     "cell_type": "code",
     "collapsed": false,
     "input": [
      "schedule_b['is_unarmed'] = (schedule_b['WEAPON 1'] == '01') | (schedule_b['WEAPON 1'] == 1)"
     ],
     "language": "python",
     "metadata": {},
     "outputs": [],
     "prompt_number": 275
    },
    {
     "cell_type": "code",
     "collapsed": false,
     "input": [
      "schedule_b['is_unarmed'].mean()"
     ],
     "language": "python",
     "metadata": {},
     "outputs": [
      {
       "metadata": {},
       "output_type": "pyout",
       "prompt_number": 276,
       "text": [
        "0.99283151993510843"
       ]
      }
     ],
     "prompt_number": 276
    },
    {
     "cell_type": "code",
     "collapsed": false,
     "input": [
      "schedule_b[['UCR GROUP B ARREST OFFENSE', 'is_unarmed']].groupby('UCR GROUP B ARREST OFFENSE').mean()"
     ],
     "language": "python",
     "metadata": {},
     "outputs": [
      {
       "html": [
        "<div style=\"max-height:1000px;max-width:1500px;overflow:auto;\">\n",
        "<table border=\"1\" class=\"dataframe\">\n",
        "  <thead>\n",
        "    <tr style=\"text-align: right;\">\n",
        "      <th></th>\n",
        "      <th>is_unarmed</th>\n",
        "    </tr>\n",
        "    <tr>\n",
        "      <th>UCR GROUP B ARREST OFFENSE</th>\n",
        "      <th></th>\n",
        "    </tr>\n",
        "  </thead>\n",
        "  <tbody>\n",
        "    <tr>\n",
        "      <th>90A</th>\n",
        "      <td> 0.998474</td>\n",
        "    </tr>\n",
        "    <tr>\n",
        "      <th>90B</th>\n",
        "      <td> 0.997676</td>\n",
        "    </tr>\n",
        "    <tr>\n",
        "      <th>90C</th>\n",
        "      <td> 0.991669</td>\n",
        "    </tr>\n",
        "    <tr>\n",
        "      <th>90D</th>\n",
        "      <td> 0.993356</td>\n",
        "    </tr>\n",
        "    <tr>\n",
        "      <th>90E</th>\n",
        "      <td> 0.994126</td>\n",
        "    </tr>\n",
        "    <tr>\n",
        "      <th>90F</th>\n",
        "      <td> 0.997464</td>\n",
        "    </tr>\n",
        "    <tr>\n",
        "      <th>90G</th>\n",
        "      <td> 0.996900</td>\n",
        "    </tr>\n",
        "    <tr>\n",
        "      <th>90H</th>\n",
        "      <td> 0.993711</td>\n",
        "    </tr>\n",
        "    <tr>\n",
        "      <th>90I</th>\n",
        "      <td> 0.998972</td>\n",
        "    </tr>\n",
        "    <tr>\n",
        "      <th>90J</th>\n",
        "      <td> 0.987741</td>\n",
        "    </tr>\n",
        "    <tr>\n",
        "      <th>90Z</th>\n",
        "      <td> 0.992062</td>\n",
        "    </tr>\n",
        "  </tbody>\n",
        "</table>\n",
        "</div>"
       ],
       "metadata": {},
       "output_type": "pyout",
       "prompt_number": 277,
       "text": [
        "                            is_unarmed\n",
        "UCR GROUP B ARREST OFFENSE            \n",
        "90A                           0.998474\n",
        "90B                           0.997676\n",
        "90C                           0.991669\n",
        "90D                           0.993356\n",
        "90E                           0.994126\n",
        "90F                           0.997464\n",
        "90G                           0.996900\n",
        "90H                           0.993711\n",
        "90I                           0.998972\n",
        "90J                           0.987741\n",
        "90Z                           0.992062"
       ]
      }
     ],
     "prompt_number": 277
    },
    {
     "cell_type": "code",
     "collapsed": false,
     "input": [
      "schedule_b[['RACE (OF ARRESTEE)', 'is_unarmed']].groupby('RACE (OF ARRESTEE)').mean()"
     ],
     "language": "python",
     "metadata": {},
     "outputs": [
      {
       "html": [
        "<div style=\"max-height:1000px;max-width:1500px;overflow:auto;\">\n",
        "<table border=\"1\" class=\"dataframe\">\n",
        "  <thead>\n",
        "    <tr style=\"text-align: right;\">\n",
        "      <th></th>\n",
        "      <th>is_unarmed</th>\n",
        "    </tr>\n",
        "    <tr>\n",
        "      <th>RACE (OF ARRESTEE)</th>\n",
        "      <th></th>\n",
        "    </tr>\n",
        "  </thead>\n",
        "  <tbody>\n",
        "    <tr>\n",
        "      <th>A</th>\n",
        "      <td> 0.995607</td>\n",
        "    </tr>\n",
        "    <tr>\n",
        "      <th>B</th>\n",
        "      <td> 0.993570</td>\n",
        "    </tr>\n",
        "    <tr>\n",
        "      <th>I</th>\n",
        "      <td> 0.994831</td>\n",
        "    </tr>\n",
        "    <tr>\n",
        "      <th>P</th>\n",
        "      <td> 0.992806</td>\n",
        "    </tr>\n",
        "    <tr>\n",
        "      <th>U</th>\n",
        "      <td> 0.995497</td>\n",
        "    </tr>\n",
        "    <tr>\n",
        "      <th>W</th>\n",
        "      <td> 0.992464</td>\n",
        "    </tr>\n",
        "  </tbody>\n",
        "</table>\n",
        "</div>"
       ],
       "metadata": {},
       "output_type": "pyout",
       "prompt_number": 278,
       "text": [
        "                    is_unarmed\n",
        "RACE (OF ARRESTEE)            \n",
        "A                     0.995607\n",
        "B                     0.993570\n",
        "I                     0.994831\n",
        "P                     0.992806\n",
        "U                     0.995497\n",
        "W                     0.992464"
       ]
      }
     ],
     "prompt_number": 278
    },
    {
     "cell_type": "code",
     "collapsed": false,
     "input": [
      "Counter(schedule_b['RACE (OF ARRESTEE)'])"
     ],
     "language": "python",
     "metadata": {},
     "outputs": [
      {
       "metadata": {},
       "output_type": "pyout",
       "prompt_number": 273,
       "text": [
        "Counter({'W': 1236494, 'B': 373069, 'I': 31343, 'U': 28427, 'A': 14567, 'P': 139})"
       ]
      }
     ],
     "prompt_number": 273
    },
    {
     "cell_type": "code",
     "collapsed": false,
     "input": [
      "Counter(schedule_b['UCR GROUP B ARREST OFFENSE'])"
     ],
     "language": "python",
     "metadata": {},
     "outputs": [
      {
       "metadata": {},
       "output_type": "pyout",
       "prompt_number": 274,
       "text": [
        "Counter({'90Z': 848654, '90D': 327664, '90C': 127236, '90E': 124102, '90G': 115488, '90J': 70807, '90F': 27998, '90B': 16353, '90I': 13623, '90A': 11796, '90H': 318})"
       ]
      }
     ],
     "prompt_number": 274
    },
    {
     "cell_type": "heading",
     "level": 1,
     "metadata": {},
     "source": [
      "Combine group A + B offenses. "
     ]
    },
    {
     "cell_type": "code",
     "collapsed": false,
     "input": [
      "total_black_unarmed = sum(schedule_b['is_unarmed'] \n",
      "                          & (schedule_b['RACE (OF ARRESTEE)'] == 'B')) + sum((incident_report['had_weapon'] == 0) & \n",
      "                                                                          (incident_report['RACE OF OFFENDER'] == 2))\n",
      "total_white_unarmed = sum(schedule_b['is_unarmed'] \n",
      "                          & (schedule_b['RACE (OF ARRESTEE)'] == 'W')) + sum((incident_report['had_weapon'] == 0) & \n",
      "                                                                          (incident_report['RACE OF OFFENDER'] == 1))\n",
      "total_black = sum(schedule_b['RACE (OF ARRESTEE)'] == 'B') + sum(incident_report['RACE OF OFFENDER'] == 2)\n",
      "total_white = sum(schedule_b['RACE (OF ARRESTEE)'] == 'W') + sum(incident_report['RACE OF OFFENDER'] == 1)\n",
      "print 'Black people who are unarmed', 1.*total_black_unarmed / total_black\n",
      "print 'White people who are unarmed', 1.*total_white_unarmed / total_white\n",
      "#can we combine things this way? I am not sure. I think one may tally by events and one by arrestees. "
     ],
     "language": "python",
     "metadata": {},
     "outputs": [
      {
       "output_type": "stream",
       "stream": "stdout",
       "text": [
        "Black people who are unarmed 0.728291650143\n",
        "White people who are unarmed 0.833493311762\n"
       ]
      }
     ],
     "prompt_number": 292
    },
    {
     "cell_type": "heading",
     "level": 1,
     "metadata": {},
     "source": [
      "Look at the Guardian data"
     ]
    },
    {
     "cell_type": "code",
     "collapsed": false,
     "input": [
      "guardian_d = pd.read_csv('guardian_with_zips.csv')\n",
      "\n",
      "total_pop_col = 'B02001_001'\n",
      "white_pop_col = 'B02001_002'\n",
      "black_pop_col = 'B02001_003'\n",
      "\n",
      "race_by_zip['zip'] = race_by_zip.index.map(lambda x:int(x.split()[1]))\n",
      "black_counts = np.random.multinomial(10000, race_by_zip[black_pop_col] / race_by_zip[black_pop_col].sum())\n",
      "white_counts = np.random.multinomial(10000, race_by_zip[white_pop_col] / race_by_zip[white_pop_col].sum())\n",
      "black_pop_zips = []\n",
      "white_pop_zips = []\n",
      "for i in range(len(black_fracs)):\n",
      "    zipcode = race_by_zip['zip'].iloc[i]\n",
      "    for j in range(black_counts[i]):\n",
      "        black_pop_zips.append(zipcode)\n",
      "    for j in range(white_counts[i]):\n",
      "        white_pop_zips.append(zipcode)\n",
      "    "
     ],
     "language": "python",
     "metadata": {},
     "outputs": [],
     "prompt_number": 364
    },
    {
     "cell_type": "code",
     "collapsed": false,
     "input": [
      "def stringify_county_code(x):\n",
      "    if x < 0:\n",
      "        return 'bad'\n",
      "    if x < 10:\n",
      "        return '00' + str(x)\n",
      "    if x < 100:\n",
      "        return '0' + str(x)\n",
      "    return str(x)\n",
      "def stringify_state_code(x):\n",
      "    if x < 0:\n",
      "        return 'bad'\n",
      "    if x < 10:\n",
      "        return '0' + str(x)\n",
      "    return str(x)\n",
      "states_to_fips = pd.read_csv('states_to_fips_codes.csv', sep = '\\t', header = None)\n",
      "states_to_fips = dict(zip(states_to_fips[2], states_to_fips[1]))\n",
      "incident_report['state_fips'] = incident_report['STATE ABBREVIATION'].map(lambda x:\n",
      "                                                                          states_to_fips[x] if x in states_to_fips else -1)\n",
      "incident_report['full_fips_code'] = incident_report['state_fips'].map(stringify_state_code)\n",
      "incident_report['full_fips_code'] = incident_report['full_fips_code'] + incident_report['FIPS COUNTY 1'].map(stringify_county_code)\n",
      "\n",
      "zip2fips = json.load(open('zip2fips.json'))\n",
      "fips2zip = {}\n",
      "for zipcode in zip2fips.keys():\n",
      "    fipscode = zip2fips[zipcode]\n",
      "    if fipscode not in fips2zip:\n",
      "        fips2zip[fipscode] = []\n",
      "    fips2zip[fipscode].append(zipcode)\n",
      "    \n",
      "import random\n",
      "black_murder_idxs = (incident_report['UCR OFFENSE CODE - 1'] == 91) & (incident_report['RACE OF OFFENDER'] == 2)\n",
      "white_murder_idxs = (incident_report['UCR OFFENSE CODE - 1'] == 91) & (incident_report['RACE OF OFFENDER'] == 1)\n",
      "\n",
      "def generateCrimeZips(incident_report, idxs, fips2zip):\n",
      "    all_fips = list(incident_report['full_fips_code'].loc[idxs])\n",
      "    all_fips = [a for a in all_fips if 'bad' not in a]\n",
      "    all_zips = []\n",
      "    \n",
      "    for fips in all_fips:\n",
      "        if fips in fips2zip:\n",
      "            zipcode = random.choice(fips2zip[fips])\n",
      "            all_zips.append(zipcode)\n",
      "        else:\n",
      "            pass\n",
      "            #print fips\n",
      "    print len(all_fips), 'FIPS mapped to', len(all_zips), 'ZIPs'\n",
      "    return [int(a) for a in all_zips]\n",
      "        \n",
      "        \n",
      "    #for i in range(l)\n",
      "black_murder_zips = generateCrimeZips(incident_report, black_murder_idxs, fips2zip)\n",
      "white_murder_zips = generateCrimeZips(incident_report, white_murder_idxs, fips2zip)\n"
     ],
     "language": "python",
     "metadata": {},
     "outputs": [],
     "prompt_number": 438
    },
    {
     "cell_type": "code",
     "collapsed": false,
     "input": [
      "income_by_zip = pd.read_csv('income_by_zipcode.csv', sep = ' ')\n",
      "race_by_zip = pd.read_csv('race_by_zipcode.csv', sep = ' ')\n",
      "race_by_zip['black_frac'] = 1.*race_by_zip[black_pop_col] / race_by_zip[total_pop_col]\n",
      "race_by_zip['white_frac'] = 1.*race_by_zip[white_pop_col] / race_by_zip[total_pop_col]\n",
      "\n",
      "white_income_col = 'B19013A_001'\n",
      "black_income_col = 'B19013B_001'\n",
      "overall_income_col = 'B19013_001'\n",
      "zips_with_shootings = list(guardian_d['zipcode'].dropna())\n",
      "zips_with_black_shootings = list(guardian_d['zipcode'].loc[guardian_d['raceethnicity'] == 'Black'].dropna())\n",
      "zips_with_white_shootings = list(guardian_d['zipcode'].loc[guardian_d['raceethnicity'] == 'White'].dropna())\n",
      "zips_with_hispanic_shootings = list(guardian_d['zipcode'].loc[guardian_d['raceethnicity'] == 'Hispanic/Latino'].dropna())\n",
      "\n",
      "\n",
      "\n",
      "\n",
      "def makeHistogram(df_to_use, col_to_use, zips_with_shootings, title_string, xmin = 0, xmax = 150000):\n",
      "    figure()\n",
      "    df_to_use['zip'] = df_to_use.index.map(lambda x:int(x.split()[1]))\n",
      "    zip_to_feature = dict(zip(df_to_use['zip'], df_to_use[col_to_use]))\n",
      "    features_with_shootings = [zip_to_feature[a] for a in zips_with_shootings if a in zip_to_feature]\n",
      "    \n",
      "    features_with_shootings = [a for a in features_with_shootings if ~np.isnan(a)]\n",
      "    title('%s mean: %2.3f +/- %2.3f\\nmedian: %2.3f' % (title_string, np.mean(features_with_shootings), \n",
      "                                                       np.std(features_with_shootings) / np.sqrt(len(features_with_shootings)),\n",
      "                                                       np.median(features_with_shootings)))\n",
      "    hist(features_with_shootings, bins = 50, range = [xmin, xmax])\n",
      "\n",
      "\n",
      "makeHistogram(df_to_use = income_by_zip, col_to_use = overall_income_col, zips_with_shootings = zips_with_shootings,\n",
      "              title_string = 'Income, all shootings')\n",
      "makeHistogram(df_to_use = income_by_zip, col_to_use = overall_income_col, zips_with_shootings = zips_with_black_shootings,\n",
      "              title_string = 'Income, black shootings')\n",
      "makeHistogram(df_to_use = income_by_zip, col_to_use = overall_income_col, zips_with_shootings = black_pop_zips,\n",
      "              title_string = 'Income, Black Overall')\n",
      "makeHistogram(df_to_use = income_by_zip, col_to_use = overall_income_col, zips_with_shootings = black_murder_zips,\n",
      "              title_string = 'Income, black murders')\n",
      "\n",
      "makeHistogram(df_to_use = income_by_zip, col_to_use = overall_income_col, zips_with_shootings = zips_with_white_shootings,\n",
      "              title_string = 'Income, white shootings')\n",
      "makeHistogram(df_to_use = income_by_zip, col_to_use = overall_income_col, zips_with_shootings = white_pop_zips,\n",
      "              title_string = 'Income, White Overall')\n",
      "makeHistogram(df_to_use = income_by_zip, col_to_use = overall_income_col, zips_with_shootings = white_murder_zips,\n",
      "              title_string = 'Income, white murders')\n",
      "\n",
      "makeHistogram(df_to_use = income_by_zip, col_to_use = overall_income_col, zips_with_shootings = zips_with_hispanic_shootings,\n",
      "              title_string = 'Income, Hispanic shootings')\n",
      "makeHistogram(df_to_use = race_by_zip, col_to_use = 'black_frac', zips_with_shootings = zips_with_black_shootings,\n",
      "              title_string = 'Fraction Black, black shootings', xmin = 0, xmax = 1)\n",
      "makeHistogram(df_to_use = race_by_zip, col_to_use = 'black_frac', zips_with_shootings = black_pop_zips,\n",
      "              title_string = 'Fraction Black, black overall', xmin = 0, xmax = 1)\n",
      "makeHistogram(df_to_use = race_by_zip, col_to_use = 'black_frac', zips_with_shootings = zips_with_white_shootings,\n",
      "              title_string = 'Fraction Black, white shootings', xmin = 0, xmax = 1)\n",
      "makeHistogram(df_to_use = race_by_zip, col_to_use = 'black_frac', zips_with_shootings = white_pop_zips,\n",
      "              title_string = 'Fraction Black, white overall', xmin = 0, xmax = 1)\n",
      "\n"
     ],
     "language": "python",
     "metadata": {},
     "outputs": [
      {
       "metadata": {},
       "output_type": "display_data",
       "png": "[encoded data removed]",
       "text": [
        "<matplotlib.figure.Figure at 0x158fba610>"
       ]
      },
      {
       "metadata": {},
       "output_type": "display_data",
       "png": "[encoded data removed]",
       "text": [
        "<matplotlib.figure.Figure at 0x158fba510>"
       ]
      },
      {
       "metadata": {},
       "output_type": "display_data",
       "png": "[encoded data removed]",
       "text": [
        "<matplotlib.figure.Figure at 0x159502910>"
       ]
      },
      {
       "metadata": {},
       "output_type": "display_data",
       "png": "[encoded data removed]",
       "text": [
        "<matplotlib.figure.Figure at 0x135864f90>"
       ]
      },
      {
       "metadata": {},
       "output_type": "display_data",
       "png": "[encoded data removed]",
       "text": [
        "<matplotlib.figure.Figure at 0x15889d810>"
       ]
      },
      {
       "metadata": {},
       "output_type": "display_data",
       "png": "[encoded data removed]",
       "text": [
        "<matplotlib.figure.Figure at 0x13f1625d0>"
       ]
      },
      {
       "metadata": {},
       "output_type": "display_data",
       "png": "[encoded data removed]",
       "text": [
        "<matplotlib.figure.Figure at 0x158e5e610>"
       ]
      },
      {
       "metadata": {},
       "output_type": "display_data",
       "png": "[encoded data removed]",
       "text": [
        "<matplotlib.figure.Figure at 0x14a411390>"
       ]
      },
      {
       "metadata": {},
       "output_type": "display_data",
       "png": "[encoded data removed]",
       "text": [
        "<matplotlib.figure.Figure at 0x14a1fd1d0>"
       ]
      },
      {
       "metadata": {},
       "output_type": "display_data",
       "png": "[encoded data removed]",
       "text": [
        "<matplotlib.figure.Figure at 0x13583dd50>"
       ]
      },
      {
       "metadata": {},
       "output_type": "display_data",
       "png": "[encoded data removed]",
       "text": [
        "<matplotlib.figure.Figure at 0x13459f290>"
       ]
      },
      {
       "metadata": {},
       "output_type": "display_data",
       "png": "[encoded data removed]",
       "text": [
        "<matplotlib.figure.Figure at 0x159d09ad0>"
       ]
      }
     ],
     "prompt_number": 448
    },
    {
     "cell_type": "code",
     "collapsed": false,
     "input": [
      "1.*(incident_report['FIPS COUNTY 3'] > 0).sum() / len(incident_report['FIPS COUNTY 1'])"
     ],
     "language": "python",
     "metadata": {},
     "outputs": [
      {
       "metadata": {},
       "output_type": "pyout",
       "prompt_number": 374,
       "text": [
        "0.04724388199140899"
       ]
      }
     ],
     "prompt_number": 374
    }
   ],
   "metadata": {}
  }
 ]
}