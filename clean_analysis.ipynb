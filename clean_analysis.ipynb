{
 "metadata": {
  "name": "",
  "signature": "sha256:6d95636ddb0f10598295d2916a4c49ad4833b5d5e7411f929607bfa297ef9dca"
 },
 "nbformat": 3,
 "nbformat_minor": 0,
 "worksheets": [
  {
   "cells": [
    {
     "cell_type": "heading",
     "level": 1,
     "metadata": {},
     "source": [
      "This notebook recreates analysis of the police shootings data. "
     ]
    },
    {
     "cell_type": "code",
     "collapsed": false,
     "input": [
      "from pylab import *\n",
      "import pandas as pd\n",
      "from collections import Counter\n",
      "import statsmodels.api as sm\n",
      "from scipy.stats import ttest_ind\n",
      "import json\n",
      "from scipy.stats import pearsonr\n",
      "import numpy as np\n"
     ],
     "language": "python",
     "metadata": {},
     "outputs": [],
     "prompt_number": 4
    },
    {
     "cell_type": "code",
     "collapsed": false,
     "input": [
      "from IPython.display import HTML\n",
      "HTML('''<script>\n",
      "code_show=true; \n",
      "function code_toggle() {\n",
      " if (code_show){\n",
      " $('div.input').hide();\n",
      " } else {\n",
      " $('div.input').show();\n",
      " }\n",
      " code_show = !code_show\n",
      "} \n",
      "$( document ).ready(code_toggle);\n",
      "</script>\n",
      "The raw code for this IPython notebook is by default hidden for easier reading.\n",
      "To toggle on/off the raw code, click <a href=\"javascript:code_toggle()\">here</a>.''')\n"
     ],
     "language": "python",
     "metadata": {},
     "outputs": [
      {
       "html": [
        "<script>\n",
        "code_show=true; \n",
        "function code_toggle() {\n",
        " if (code_show){\n",
        " $('div.input').hide();\n",
        " } else {\n",
        " $('div.input').show();\n",
        " }\n",
        " code_show = !code_show\n",
        "} \n",
        "$( document ).ready(code_toggle);\n",
        "</script>\n",
        "The raw code for this IPython notebook is by default hidden for easier reading.\n",
        "To toggle on/off the raw code, click <a href=\"javascript:code_toggle()\">here</a>."
       ],
       "metadata": {},
       "output_type": "pyout",
       "prompt_number": 5,
       "text": [
        "<IPython.core.display.HTML at 0x112f49cd0>"
       ]
      }
     ],
     "prompt_number": 5
    },
    {
     "cell_type": "heading",
     "level": 6,
     "metadata": {},
     "source": [
      "African American and Hispanic people shot by police are younger than white people shot by police, more likely to be unarmed, and more likely to not be attacking [1]. White people are more likely to be mentally ill. "
     ]
    },
    {
     "cell_type": "code",
     "collapsed": false,
     "input": [
      "#fatal-police-shootings-data.csv comes from the Washington Post: https://github.com/washingtonpost/data-police-shootings\n",
      "d = pd.read_csv('fatal-police-shootings-data.csv')\n",
      "\n",
      "d['signs_of_mental_illness'] = d['signs_of_mental_illness'] * 1.#statsmodels complains if it's a pure Boolean when running logit regression. \n",
      "d['is_unarmed'] = (d['armed'] == 'unarmed') * 1.\n",
      "d['is_not_attacking'] = (d['threat_level'] != 'attack') * 1.\n",
      "d['is_white'] = d['race'] == 'W'\n",
      "\n",
      "small_d = d.loc[d['race'].map(lambda x:x in ['W', 'B', 'H'])]#filter for white, black, or Hispanic\n",
      "\n",
      "covs_of_interest = ['age', 'is_unarmed', 'is_not_attacking', 'signs_of_mental_illness']\n",
      "for cov in covs_of_interest:\n",
      "    p_for_whites = d[cov][d['is_white'] == 1].mean()\n",
      "    p_for_not_whites = d[cov][d['is_white'] == 0].mean()\n",
      "    p_for_hispanics = d[cov][d['race'] == 'H'].mean()\n",
      "    p_for_blacks = d[cov][d['race'] == 'B'].mean()\n",
      "    if cov != 'age':\n",
      "        print 'Probability of %s for white people is %2.3f; for non-white people is %2.3f; African American people %2.3f, Hispanic people %2.3f' % (cov, p_for_whites, p_for_not_whites, p_for_blacks, p_for_hispanics)\n",
      "    else:\n",
      "        print '%s for white people is %2.3f; for non-white people is %2.3f; African American people %2.3f, Hispanic people %2.3f' % (cov, p_for_whites, p_for_not_whites, p_for_blacks, p_for_hispanics)\n",
      "for cov in covs_of_interest:\n",
      "    if cov != 'age':\n",
      "        model = sm.Logit.from_formula('%s ~ is_white' % cov, data = d).fit()\n",
      "        print model.summary()\n",
      "        model = sm.Logit.from_formula('%s ~ C(race, Sum)' % cov, data = small_d).fit()\n",
      "        print model.summary()\n",
      "    else:\n",
      "        model = sm.OLS.from_formula('%s ~ is_white' % cov, data = d).fit()\n",
      "        print model.summary()\n",
      "        model = sm.OLS.from_formula('%s ~ C(race, Sum)' % cov, data = small_d).fit()\n",
      "        print model.summary()"
     ],
     "language": "python",
     "metadata": {},
     "outputs": [
      {
       "output_type": "stream",
       "stream": "stdout",
       "text": [
        "age for white people is 39.555; for non-white people is 33.787; African American people 32.037, Hispanic people 33.074\n",
        "Probability of is_unarmed for white people is 0.065; for non-white people is 0.121; African American people 0.145, Hispanic people 0.110\n",
        "Probability of is_not_attacking for white people is 0.192; for non-white people is 0.317; African American people 0.285, Hispanic people 0.399\n",
        "Probability of signs_of_mental_illness for white people is 0.317; for non-white people is 0.187; African American people 0.153, Hispanic people 0.202\n",
        "                            OLS Regression Results                            \n",
        "==============================================================================\n",
        "Dep. Variable:                    age   R-squared:                       0.049\n",
        "Model:                            OLS   Adj. R-squared:                  0.048\n",
        "Method:                 Least Squares   F-statistic:                     48.82\n",
        "Date:                Wed, 06 Jan 2016   Prob (F-statistic):           5.29e-12\n",
        "Time:                        22:04:41   Log-Likelihood:                -3763.1\n",
        "No. Observations:                 950   AIC:                             7530.\n",
        "Df Residuals:                     948   BIC:                             7540.\n",
        "Df Model:                           1                                         \n",
        "Covariance Type:            nonrobust                                         \n",
        "====================================================================================\n",
        "                       coef    std err          t      P>|t|      [95.0% Conf. Int.]\n",
        "------------------------------------------------------------------------------------\n",
        "Intercept           33.7869      0.584     57.822      0.000        32.640    34.934\n",
        "is_white[T.True]     5.7677      0.825      6.987      0.000         4.148     7.388\n",
        "==============================================================================\n",
        "Omnibus:                       60.477   Durbin-Watson:                   2.043\n",
        "Prob(Omnibus):                  0.000   Jarque-Bera (JB):               70.527\n",
        "Skew:                           0.655   Prob(JB):                     4.84e-16\n",
        "Kurtosis:                       3.259   Cond. No.                         2.62\n",
        "==============================================================================\n",
        "\n",
        "Warnings:\n",
        "[1] Standard Errors assume that the covariance matrix of the errors is correctly specified.\n",
        "                            OLS Regression Results                            \n",
        "==============================================================================\n",
        "Dep. Variable:                    age   R-squared:                       0.078\n",
        "Model:                            OLS   Adj. R-squared:                  0.076\n",
        "Method:                 Least Squares   F-statistic:                     37.35\n",
        "Date:                Wed, 06 Jan 2016   Prob (F-statistic):           2.71e-16\n",
        "Time:                        22:04:41   Log-Likelihood:                -3462.7\n",
        "No. Observations:                 883   AIC:                             6931.\n",
        "Df Residuals:                     880   BIC:                             6946.\n",
        "Df Model:                           2                                         \n",
        "Covariance Type:            nonrobust                                         \n",
        "=====================================================================================\n",
        "                        coef    std err          t      P>|t|      [95.0% Conf. Int.]\n",
        "-------------------------------------------------------------------------------------\n",
        "Intercept            34.8885      0.453     76.964      0.000        33.999    35.778\n",
        "C(race, Sum)[S.B]    -2.8517      0.640     -4.458      0.000        -4.107    -1.596\n",
        "C(race, Sum)[S.H]    -1.8144      0.717     -2.532      0.012        -3.221    -0.408\n",
        "==============================================================================\n",
        "Omnibus:                       39.019   Durbin-Watson:                   2.079\n",
        "Prob(Omnibus):                  0.000   Jarque-Bera (JB):               43.374\n",
        "Skew:                           0.542   Prob(JB):                     3.82e-10\n",
        "Kurtosis:                       3.053   Cond. No.                         2.73\n",
        "==============================================================================\n",
        "\n",
        "Warnings:\n",
        "[1] Standard Errors assume that the covariance matrix of the errors is correctly specified.\n",
        "Optimization terminated successfully.\n",
        "         Current function value: 0.305202\n",
        "         Iterations 7\n",
        "                           Logit Regression Results                           \n",
        "==============================================================================\n",
        "Dep. Variable:             is_unarmed   No. Observations:                  965\n",
        "Model:                          Logit   Df Residuals:                      963\n",
        "Method:                           MLE   Df Model:                            1\n",
        "Date:                Wed, 06 Jan 2016   Pseudo R-squ.:                 0.01556\n",
        "Time:                        22:04:41   Log-Likelihood:                -294.52\n",
        "converged:                       True   LL-Null:                       -299.17\n",
        "                                        LLR p-value:                  0.002278\n",
        "====================================================================================\n",
        "                       coef    std err          z      P>|z|      [95.0% Conf. Int.]\n",
        "------------------------------------------------------------------------------------\n",
        "Intercept           -1.9792      0.139    -14.250      0.000        -2.251    -1.707\n",
        "is_white[T.True]    -0.6916      0.232     -2.982      0.003        -1.146    -0.237\n",
        "===================================================================================="
       ]
      },
      {
       "output_type": "stream",
       "stream": "stdout",
       "text": [
        "\n",
        "Optimization terminated successfully.\n",
        "         Current function value: 0.307919\n",
        "         Iterations 7\n",
        "                           Logit Regression Results                           \n",
        "==============================================================================\n",
        "Dep. Variable:             is_unarmed   No. Observations:                  891\n",
        "Model:                          Logit   Df Residuals:                      888\n",
        "Method:                           MLE   Df Model:                            2\n",
        "Date:                Wed, 06 Jan 2016   Pseudo R-squ.:                 0.02202\n",
        "Time:                        22:04:41   Log-Likelihood:                -274.36\n",
        "converged:                       True   LL-Null:                       -280.53\n",
        "                                        LLR p-value:                  0.002074\n",
        "=====================================================================================\n",
        "                        coef    std err          z      P>|z|      [95.0% Conf. Int.]\n",
        "-------------------------------------------------------------------------------------\n",
        "Intercept            -2.1783      0.120    -18.166      0.000        -2.413    -1.943\n",
        "C(race, Sum)[S.B]     0.4005      0.159      2.523      0.012         0.089     0.712\n",
        "C(race, Sum)[S.H]     0.0920      0.188      0.490      0.624        -0.276     0.460\n",
        "=====================================================================================\n",
        "Optimization terminated successfully.\n",
        "         Current function value: 0.557338\n",
        "         Iterations 5\n",
        "                           Logit Regression Results                           \n",
        "==============================================================================\n",
        "Dep. Variable:       is_not_attacking   No. Observations:                  965\n",
        "Model:                          Logit   Df Residuals:                      963\n",
        "Method:                           MLE   Df Model:                            1\n",
        "Date:                Wed, 06 Jan 2016   Pseudo R-squ.:                 0.01821\n",
        "Time:                        22:04:41   Log-Likelihood:                -537.83\n",
        "converged:                       True   LL-Null:                       -547.81\n",
        "                                        LLR p-value:                 7.923e-06\n",
        "====================================================================================\n",
        "                       coef    std err          z      P>|z|      [95.0% Conf. Int.]\n",
        "------------------------------------------------------------------------------------\n",
        "Intercept           -0.7682      0.097     -7.879      0.000        -0.959    -0.577\n",
        "is_white[T.True]    -0.6685      0.152     -4.412      0.000        -0.965    -0.371\n",
        "====================================================================================\n",
        "Optimization terminated successfully.\n",
        "         Current function value: 0.553072\n",
        "         Iterations 5\n",
        "                           Logit Regression Results                           \n",
        "==============================================================================\n",
        "Dep. Variable:       is_not_attacking   No. Observations:                  891\n",
        "Model:                          Logit   Df Residuals:                      888\n",
        "Method:                           MLE   Df Model:                            2\n",
        "Date:                Wed, 06 Jan 2016   Pseudo R-squ.:                 0.02751\n",
        "Time:                        22:04:41   Log-Likelihood:                -492.79\n",
        "converged:                       True   LL-Null:                       -506.73\n",
        "                                        LLR p-value:                 8.836e-07\n",
        "=====================================================================================\n",
        "                        coef    std err          z      P>|z|      [95.0% Conf. Int.]\n",
        "-------------------------------------------------------------------------------------\n",
        "Intercept            -0.9221      0.081    -11.413      0.000        -1.080    -0.764\n",
        "C(race, Sum)[S.B]     0.0030      0.114      0.026      0.979        -0.221     0.227\n",
        "C(race, Sum)[S.H]     0.5115      0.123      4.169      0.000         0.271     0.752\n",
        "=====================================================================================\n",
        "Optimization terminated successfully."
       ]
      },
      {
       "output_type": "stream",
       "stream": "stdout",
       "text": [
        "\n",
        "         Current function value: 0.553002\n",
        "         Iterations 5\n",
        "                              Logit Regression Results                             \n",
        "===================================================================================\n",
        "Dep. Variable:     signs_of_mental_illness   No. Observations:                  965\n",
        "Model:                               Logit   Df Residuals:                      963\n",
        "Method:                                MLE   Df Model:                            1\n",
        "Date:                     Wed, 06 Jan 2016   Pseudo R-squ.:                 0.02005\n",
        "Time:                             22:04:41   Log-Likelihood:                -533.65\n",
        "converged:                            True   LL-Null:                       -544.57\n",
        "                                             LLR p-value:                 2.962e-06\n",
        "====================================================================================\n",
        "                       coef    std err          z      P>|z|      [95.0% Conf. Int.]\n",
        "------------------------------------------------------------------------------------\n",
        "Intercept           -1.4680      0.116    -12.625      0.000        -1.696    -1.240\n",
        "is_white[T.True]     0.7019      0.152      4.613      0.000         0.404     1.000\n",
        "====================================================================================\n",
        "Optimization terminated successfully.\n",
        "         Current function value: 0.547464\n",
        "         Iterations 6\n",
        "                              Logit Regression Results                             \n",
        "===================================================================================\n",
        "Dep. Variable:     signs_of_mental_illness   No. Observations:                  891\n",
        "Model:                               Logit   Df Residuals:                      888\n",
        "Method:                                MLE   Df Model:                            2\n",
        "Date:                     Wed, 06 Jan 2016   Pseudo R-squ.:                 0.02698\n",
        "Time:                             22:04:41   Log-Likelihood:                -487.79\n",
        "converged:                            True   LL-Null:                       -501.32\n",
        "                                             LLR p-value:                 1.337e-06\n",
        "=====================================================================================\n",
        "                        coef    std err          z      P>|z|      [95.0% Conf. Int.]\n",
        "-------------------------------------------------------------------------------------\n",
        "Intercept            -1.2838      0.094    -13.730      0.000        -1.467    -1.101\n",
        "C(race, Sum)[S.B]    -0.4305      0.138     -3.115      0.002        -0.701    -0.160\n",
        "C(race, Sum)[S.H]    -0.0872      0.146     -0.596      0.551        -0.374     0.200\n",
        "=====================================================================================\n"
       ]
      }
     ],
     "prompt_number": 6
    },
    {
     "cell_type": "heading",
     "level": 6,
     "metadata": {},
     "source": [
      "I checked both whether they were carrying a gun and whether they were carrying any weapon at all, and I examined more than a dozen of the most common crimes where perpetrators frequently carried weapons [2]. And I actually found the opposite: African American people were in general more likely to carry weapons when committing the same crimes [3]"
     ]
    },
    {
     "cell_type": "code",
     "collapsed": false,
     "input": [
      "#load in both group A and group B data from the 2013 Uniform crime report \n",
      "#source: https://www.icpsr.umich.edu/icpsrweb/NACJD/studies/36120\n",
      "#note: this data was designed to be read in to SPSS / STATA, so I wrote a script to turn it into a conventional CSV. \n",
      "#There are probably better ways to do this -- let me know if you know one (or if you want the script)\n",
      "#for obvious reasons I do not include the data in the repo -- it's 6 GB. \n",
      "incident_report = pd.read_csv('/Users/epierson/Desktop/offender_level/DS0003/data.csv')\n",
      "f = open('/Users/epierson/Desktop/offender_level/DS0003/crime_codes.txt')#read in names of individual crimes. \n",
      "parity = 0\n",
      "crime_codes = {}\n",
      "for line in f:\n",
      "    if parity == 0:\n",
      "        parity = 1\n",
      "        numeric_val = int(line.replace('(M)', '').strip())\n",
      "        \n",
      "    else:\n",
      "        parity = 0\n",
      "        crime_codes[numeric_val] = line.strip()\n",
      "print crime_codes\n",
      "\n",
      "\n"
     ],
     "language": "python",
     "metadata": {},
     "outputs": [
      {
       "output_type": "stream",
       "stream": "stdout",
       "text": [
        "{641: 'Human Trafficking - Commercial Sex Acts', 642: 'Human Trafficking - Involuntary Servitude', 131: 'Aggravated Assault', 132: 'Simple Assault', 133: 'Intimidation', 262: 'Credit Card/Automatic Teller Machine Fraud', 263: 'Impersonation', 264: 'Welfare Fraud', 265: 'Wire Fraud', 394: 'Sports Tampering', 270: 'Embezzlement', 401: 'Prostitution', 402: 'Assisting or Promoting Prostitution', 403: 'Purchasing Prostitution', 280: 'Stolen Property Offenses', 520: 'Weapon Law Violations', 261: 'False Pretenses/Swindle/Confidence Game', 240: 'Motor Vehicle Theft', 290: 'Destruction/Damage/Vandalism of Property', 92: 'Negligent Manslaughter', 391: 'Betting/Wagering', 370: 'Pornography/Obscene Material', 392: 'Operating/Promoting/Assisting Gambling', 393: 'Gambling Equipment Violations', 200: 'Arson', -9: 'Undetermined', -6: 'Not applicable', 210: 'Extortion/Blackmail', 91: 'Murder/Nonnegligent Manslaughter', 220: 'Burglary/Breaking and Entering', 93: 'Justifiable Homicide', 351: 'Drug/Narcotic Violations', 352: 'Drug Equipment Violations', 100: 'Kidnaping/Abduction', 231: 'Pocket-picking', 232: 'Purse-snatching', 233: 'Shoplifting', 234: 'Theft From Building', 235: 'Theft From Coin-Operated Machine or Device', 236: 'Theft From Motor Vehicle', 237: 'Theft of Motor Vehicle Parts/Accessories', 238: 'All Other Larceny', 111: 'Rape', 112: 'Sodomy', 113: 'Sexual Assault With An Object', 114: 'Fondling (Indecent Liberties/Child Molesting)', 361: 'Incest', 120: 'Robbery', -7: 'Unknown/Missing/DNR', 250: 'Counterfeiting/Forgery', 362: 'Statutory Rape', 510: 'Bribery'}\n"
       ]
      },
      {
       "output_type": "stream",
       "stream": "stderr",
       "text": [
        "/Users/epierson/Library/Enthought/Canopy_64bit/User/lib/python2.7/site-packages/pandas/io/parsers.py:1139: DtypeWarning: Columns (21,23,73,223,224,225,328,329,330,367) have mixed types. Specify dtype option on import or set low_memory=False.\n",
        "  data = self._reader.read(nrows)\n"
       ]
      }
     ],
     "prompt_number": 7
    },
    {
     "cell_type": "code",
     "collapsed": false,
     "input": [
      "#code whether they are armed. \n",
      "incident_report['had_weapon'] = False\n",
      "incident_report['had_gun'] = False\n",
      "for i in range(1, 4):\n",
      "    for j in range(1, 4):\n",
      "        col = 'WEAPON / FORCE %i - %i' % (i, j)\n",
      "        incident_report['had_weapon'] = incident_report['had_weapon'] | ((incident_report[col] != 850) & (incident_report[col] != 400) & (incident_report[col] <= 900) &  (incident_report[col] >= 0))\n",
      "for i in range(1, 4):\n",
      "    for j in range(1, 4):\n",
      "        col = 'WEAPON / FORCE %i - %i' % (i, j)\n",
      "        incident_report['had_gun'] = incident_report['had_gun'] | ((incident_report[col] <= 151) &  (incident_report[col] >= 0))\n",
      "print 'Proportion %2.3f of crimes had weapons; %2.3f had guns' % (incident_report['had_weapon'].mean(), incident_report['had_gun'].mean())\n",
      "\n"
     ],
     "language": "python",
     "metadata": {},
     "outputs": [
      {
       "output_type": "stream",
       "stream": "stdout",
       "text": [
        "Proportion 0.060 of crimes had weapons; 0.028 had guns\n"
       ]
      }
     ],
     "prompt_number": 8
    },
    {
     "cell_type": "code",
     "collapsed": false,
     "input": [
      "crime_counts = Counter(incident_report['UCR OFFENSE CODE - 1'])"
     ],
     "language": "python",
     "metadata": {},
     "outputs": [],
     "prompt_number": 9
    },
    {
     "cell_type": "code",
     "collapsed": false,
     "input": [
      "weapon_frequencies = incident_report[['had_weapon', 'UCR OFFENSE CODE - 1']].groupby('UCR OFFENSE CODE - 1').mean()"
     ],
     "language": "python",
     "metadata": {},
     "outputs": [],
     "prompt_number": 10
    },
    {
     "cell_type": "code",
     "collapsed": false,
     "input": [
      "gun_frequencies = incident_report[['had_gun', 'UCR OFFENSE CODE - 1']].groupby('UCR OFFENSE CODE - 1').mean()"
     ],
     "language": "python",
     "metadata": {},
     "outputs": [],
     "prompt_number": 11
    },
    {
     "cell_type": "code",
     "collapsed": false,
     "input": [
      "weapon_offenses = list(set(weapon_frequencies[weapon_frequencies['had_weapon'] > 0].index))\n",
      "weapon_offense_idxs = incident_report['UCR OFFENSE CODE - 1'].map(lambda x:x in weapon_offenses) | incident_report['UCR OFFENSE CODE - 2'].map(lambda x:x in weapon_offenses) | incident_report['UCR OFFENSE CODE - 3'].map(lambda x:x in weapon_offenses)\n",
      "race_known_idxs = incident_report['RACE OF OFFENDER'].map(lambda x:x in [1, 2, 3, 4])\n",
      "sex_known_idxs = incident_report['SEX OF OFFENDER'].map(lambda x:x >= 0)\n",
      "good_idxs = weapon_offense_idxs & race_known_idxs & sex_known_idxs\n",
      "incident_report['had_weapon'] = incident_report['had_weapon'] * 1.\n",
      "incident_report['had_gun'] = incident_report['had_gun'] * 1.\n",
      "\n",
      "covs = ['UCR OFFENSE CODE - 1', 'UCR OFFENSE CODE - 2', 'UCR OFFENSE CODE - 3', 'RACE OF OFFENDER', 'SEX OF OFFENDER', 'AGE OF OFFENDER']\n",
      "new_cov_names = []\n",
      "for cov in covs:\n",
      "    new_name = cov.replace(' ', '_').replace('-', '')\n",
      "    new_cov_names.append(new_name)\n",
      "    incident_report[new_name] = incident_report[cov]\n",
      "small_d = pd.DataFrame(index = incident_report.index[good_idxs])\n",
      "for cov in new_cov_names + ['had_weapon', 'had_gun']:\n",
      "    small_d[cov] = incident_report[cov].loc[good_idxs]\n",
      "print 'Columns are crime, number of occurrences, fraction committed by white people, fraction committed by African American people, fraction white people with weapon, fraction African American people with weapon, fraction white people with gun, fraction African American people with gun'\n",
      "for c in sorted(crime_counts, key = lambda x:crime_counts[x])[::-1][:100]:\n",
      "    if float(weapon_frequencies.loc[c]) < .05:\n",
      "        continue\n",
      "    if crime_counts[c] < 200:\n",
      "        continue\n",
      "    idxs = (good_idxs) & ((incident_report['UCR_OFFENSE_CODE__1'] == c) | (incident_report['UCR_OFFENSE_CODE__2'] == c) | (incident_report['UCR_OFFENSE_CODE__3'] == c))\n",
      "    white_idxs = idxs & (incident_report['RACE OF OFFENDER'] == 1)\n",
      "    black_idxs = idxs & (incident_report['RACE OF OFFENDER'] == 2)\n",
      "    race_counts = Counter(incident_report['RACE OF OFFENDER'].loc[idxs])        \n",
      "    white_frac = 1.*race_counts[1] / sum(race_counts.values())\n",
      "    black_frac = 1.*race_counts[2] / sum(race_counts.values())\n",
      "    white_had_weapon = incident_report['had_weapon'].loc[white_idxs].mean()\n",
      "    black_had_weapon = incident_report['had_weapon'].loc[black_idxs].mean()\n",
      "    white_had_gun = incident_report['had_gun'].loc[white_idxs].mean()\n",
      "    black_had_gun = incident_report['had_gun'].loc[black_idxs].mean()\n",
      "    print '%-50s %8i %2.3f %2.3f %2.3f %2.3f %2.3f %2.3f' % (crime_codes[c], crime_counts[c], white_frac, black_frac, white_had_weapon, black_had_weapon, white_had_gun, black_had_gun)"
     ],
     "language": "python",
     "metadata": {},
     "outputs": [
      {
       "output_type": "stream",
       "stream": "stdout",
       "text": [
        "Columns are crime, number of occurrences, fraction committed by white people, fraction committed by African American people, fraction white people with weapon, fraction African American people with weapon, fraction white people with gun, fraction African American people with gun\n",
        "Simple Assault                                       762358 0.615 0.365 0.073 0.068 0.003 0.005"
       ]
      },
      {
       "output_type": "stream",
       "stream": "stdout",
       "text": [
        "\n",
        "Aggravated Assault                                   194503 0.548 0.431 0.684 0.788 0.155 0.297"
       ]
      },
      {
       "output_type": "stream",
       "stream": "stdout",
       "text": [
        "\n",
        "Robbery                                              112362 0.265 0.726 0.533 0.614 0.318 0.519"
       ]
      },
      {
       "output_type": "stream",
       "stream": "stdout",
       "text": [
        "\n",
        "Weapon Law Violations                                 47901 0.544 0.442 0.941 0.960 0.583 0.804"
       ]
      },
      {
       "output_type": "stream",
       "stream": "stdout",
       "text": [
        "\n",
        "Stolen Property Offenses                              31283 0.716 0.264 0.038 0.101 0.027 0.091"
       ]
      },
      {
       "output_type": "stream",
       "stream": "stdout",
       "text": [
        "\n",
        "Rape                                                  29727 0.662 0.321 0.068 0.119 0.012 0.060"
       ]
      },
      {
       "output_type": "stream",
       "stream": "stdout",
       "text": [
        "\n",
        "Kidnaping/Abduction                                   17299 0.597 0.382 0.262 0.368 0.104 0.252"
       ]
      },
      {
       "output_type": "stream",
       "stream": "stdout",
       "text": [
        "\n",
        "Sodomy                                                 7113 0.678 0.311 0.070 0.131 0.007 0.050"
       ]
      },
      {
       "output_type": "stream",
       "stream": "stdout",
       "text": [
        "\n",
        "Murder/Nonnegligent Manslaughter                       4617 0.410 0.570 0.829 0.909 0.514 0.790"
       ]
      },
      {
       "output_type": "stream",
       "stream": "stdout",
       "text": [
        "\n",
        "Sexual Assault With An Object                          3008 0.775 0.214 0.113 0.187 0.011 0.064"
       ]
      },
      {
       "output_type": "stream",
       "stream": "stdout",
       "text": [
        "\n",
        "Extortion/Blackmail                                    1492 0.674 0.298 0.198 0.212 0.043 0.047"
       ]
      },
      {
       "output_type": "stream",
       "stream": "stdout",
       "text": [
        "\n",
        "Negligent Manslaughter                                  288 0.741 0.217 0.774 0.702 0.185 0.228"
       ]
      },
      {
       "output_type": "stream",
       "stream": "stdout",
       "text": [
        "\n",
        "Gambling Equipment Violations                           267 0.294 0.669 0.028 0.097 0.028 0.097"
       ]
      },
      {
       "output_type": "stream",
       "stream": "stdout",
       "text": [
        "\n",
        "Justifiable Homicide                                    206 0.694 0.301 0.965 0.968 0.951 0.871"
       ]
      },
      {
       "output_type": "stream",
       "stream": "stdout",
       "text": [
        "\n"
       ]
      }
     ],
     "prompt_number": 12
    },
    {
     "cell_type": "code",
     "collapsed": false,
     "input": [
      "#do regressions. \n",
      "cov_string = []\n",
      "offense_counts_1 = Counter(small_d['UCR_OFFENSE_CODE__1'])\n",
      "enough_offenses_idxs = small_d['UCR_OFFENSE_CODE__1'].map(lambda x:offense_counts_1[x]>=100)\n",
      "small_d = small_d.loc[enough_offenses_idxs] \n",
      "categorical_covs = ['UCR_OFFENSE_CODE__1', 'RACE_OF_OFFENDER']\n",
      "for cov in new_cov_names:\n",
      "    if cov in ['UCR_OFFENSE_CODE__2', 'UCR_OFFENSE_CODE__3']:\n",
      "        continue\n",
      "    if cov in categorical_covs:\n",
      "        cov_string.append('C(%s, Sum)' % cov)\n",
      "    else:\n",
      "        cov_string.append(cov)\n",
      "        \n",
      "model = sm.Logit.from_formula('had_weapon ~ %s' \n",
      "                            % '+'.join(cov_string), \n",
      "                            data = small_d).fit()\n",
      "print model.summary()\n",
      "model = sm.Logit.from_formula('had_gun ~ %s' \n",
      "                            % '+'.join(cov_string), \n",
      "                            data = small_d).fit()\n",
      "print model.summary()\n"
     ],
     "language": "python",
     "metadata": {},
     "outputs": [
      {
       "output_type": "stream",
       "stream": "stdout",
       "text": [
        "Optimization terminated successfully.\n",
        "         Current function value: 0.147457\n",
        "         Iterations 12\n",
        "                           Logit Regression Results                           \n",
        "==============================================================================\n",
        "Dep. Variable:             had_weapon   No. Observations:              3400215\n",
        "Model:                          Logit   Df Residuals:                  3400167\n",
        "Method:                           MLE   Df Model:                           47\n",
        "Date:                Wed, 06 Jan 2016   Pseudo R-squ.:                  0.5128\n",
        "Time:                        22:11:39   Log-Likelihood:            -5.0139e+05\n",
        "converged:                       True   LL-Null:                   -1.0291e+06\n",
        "                                        LLR p-value:                     0.000\n",
        "======================================================================================================\n",
        "                                         coef    std err          z      P>|z|      [95.0% Conf. Int.]\n",
        "------------------------------------------------------------------------------------------------------\n",
        "Intercept                             -3.9581      0.052    -76.553      0.000        -4.059    -3.857\n",
        "C(UCR_OFFENSE_CODE__1, Sum)[S.91]      5.8458      0.069     84.685      0.000         5.711     5.981\n",
        "C(UCR_OFFENSE_CODE__1, Sum)[S.92]      5.1345      0.149     34.568      0.000         4.843     5.426\n",
        "C(UCR_OFFENSE_CODE__1, Sum)[S.93]      7.3469      0.379     19.387      0.000         6.604     8.090\n",
        "C(UCR_OFFENSE_CODE__1, Sum)[S.100]     3.1209      0.053     58.920      0.000         3.017     3.225\n",
        "C(UCR_OFFENSE_CODE__1, Sum)[S.111]     1.4692      0.055     26.550      0.000         1.361     1.578\n",
        "C(UCR_OFFENSE_CODE__1, Sum)[S.112]     1.4557      0.069     21.184      0.000         1.321     1.590\n",
        "C(UCR_OFFENSE_CODE__1, Sum)[S.113]     2.0323      0.077     26.245      0.000         1.881     2.184\n",
        "C(UCR_OFFENSE_CODE__1, Sum)[S.114]     0.6978      0.059     11.751      0.000         0.581     0.814\n",
        "C(UCR_OFFENSE_CODE__1, Sum)[S.120]     4.2102      0.051     83.041      0.000         4.111     4.310\n",
        "C(UCR_OFFENSE_CODE__1, Sum)[S.131]     4.9394      0.050     97.839      0.000         4.840     5.038\n",
        "C(UCR_OFFENSE_CODE__1, Sum)[S.132]     1.2345      0.050     24.475      0.000         1.136     1.333\n",
        "C(UCR_OFFENSE_CODE__1, Sum)[S.133]    -1.1713      0.058    -20.300      0.000        -1.284    -1.058\n",
        "C(UCR_OFFENSE_CODE__1, Sum)[S.200]    -0.7467      0.136     -5.482      0.000        -1.014    -0.480\n",
        "C(UCR_OFFENSE_CODE__1, Sum)[S.210]     2.3878      0.099     24.232      0.000         2.195     2.581\n",
        "C(UCR_OFFENSE_CODE__1, Sum)[S.220]    -1.3018      0.059    -21.882      0.000        -1.418    -1.185\n",
        "C(UCR_OFFENSE_CODE__1, Sum)[S.231]    -2.3895      0.402     -5.942      0.000        -3.178    -1.601\n",
        "C(UCR_OFFENSE_CODE__1, Sum)[S.232]    -2.0568      0.313     -6.566      0.000        -2.671    -1.443\n",
        "C(UCR_OFFENSE_CODE__1, Sum)[S.233]    -2.1932      0.061    -35.949      0.000        -2.313    -2.074\n",
        "C(UCR_OFFENSE_CODE__1, Sum)[S.234]    -2.4809      0.090    -27.554      0.000        -2.657    -2.304\n",
        "C(UCR_OFFENSE_CODE__1, Sum)[S.235]    -2.3153      0.567     -4.087      0.000        -3.426    -1.205\n",
        "C(UCR_OFFENSE_CODE__1, Sum)[S.236]    -1.3509      0.077    -17.645      0.000        -1.501    -1.201\n",
        "C(UCR_OFFENSE_CODE__1, Sum)[S.237]    -2.0094      0.210     -9.570      0.000        -2.421    -1.598\n",
        "C(UCR_OFFENSE_CODE__1, Sum)[S.238]    -2.1147      0.064    -33.034      0.000        -2.240    -1.989\n",
        "C(UCR_OFFENSE_CODE__1, Sum)[S.240]    -1.7868      0.092    -19.465      0.000        -1.967    -1.607\n",
        "C(UCR_OFFENSE_CODE__1, Sum)[S.250]    -1.6665      0.090    -18.533      0.000        -1.843    -1.490\n",
        "C(UCR_OFFENSE_CODE__1, Sum)[S.261]    -1.3120      0.076    -17.204      0.000        -1.461    -1.162\n",
        "C(UCR_OFFENSE_CODE__1, Sum)[S.262]    -3.2867      0.242    -13.572      0.000        -3.761    -2.812\n",
        "C(UCR_OFFENSE_CODE__1, Sum)[S.263]    -0.6433      0.090     -7.152      0.000        -0.820    -0.467\n",
        "C(UCR_OFFENSE_CODE__1, Sum)[S.264]    -2.0353      0.693     -2.936      0.003        -3.394    -0.677\n",
        "C(UCR_OFFENSE_CODE__1, Sum)[S.270]    -3.3420      0.286    -11.668      0.000        -3.903    -2.781\n",
        "C(UCR_OFFENSE_CODE__1, Sum)[S.280]     1.2208      0.056     21.741      0.000         1.111     1.331\n",
        "C(UCR_OFFENSE_CODE__1, Sum)[S.290]    -0.9788      0.057    -17.237      0.000        -1.090    -0.868\n",
        "C(UCR_OFFENSE_CODE__1, Sum)[S.351]     0.7213      0.051     14.221      0.000         0.622     0.821\n",
        "C(UCR_OFFENSE_CODE__1, Sum)[S.352]     0.2991      0.056      5.329      0.000         0.189     0.409\n",
        "C(UCR_OFFENSE_CODE__1, Sum)[S.361]    -2.8668      0.978     -2.931      0.003        -4.784    -0.949\n",
        "C(UCR_OFFENSE_CODE__1, Sum)[S.362]    -3.7415      0.692     -5.403      0.000        -5.099    -2.384\n",
        "C(UCR_OFFENSE_CODE__1, Sum)[S.370]    -3.1145      0.440     -7.083      0.000        -3.976    -2.253\n",
        "C(UCR_OFFENSE_CODE__1, Sum)[S.391]    -1.0367      0.493     -2.105      0.035        -2.002    -0.071\n",
        "C(UCR_OFFENSE_CODE__1, Sum)[S.393]     1.3756      0.251      5.474      0.000         0.883     1.868\n",
        "C(UCR_OFFENSE_CODE__1, Sum)[S.401]    -1.5794      0.198     -7.962      0.000        -1.968    -1.191\n",
        "C(UCR_OFFENSE_CODE__1, Sum)[S.402]    -1.3300      0.266     -4.992      0.000        -1.852    -0.808\n",
        "C(UCR_OFFENSE_CODE__1, Sum)[S.510]    -1.4308      0.980     -1.460      0.144        -3.351     0.490\n",
        "C(RACE_OF_OFFENDER, Sum)[S.1]         -0.1191      0.011    -11.121      0.000        -0.140    -0.098\n",
        "C(RACE_OF_OFFENDER, Sum)[S.2]          0.1892      0.011     17.500      0.000         0.168     0.210\n",
        "C(RACE_OF_OFFENDER, Sum)[S.3]         -0.1631      0.022     -7.432      0.000        -0.206    -0.120\n",
        "SEX_OF_OFFENDER                        0.0034      0.007      0.515      0.607        -0.010     0.016\n",
        "AGE_OF_OFFENDER                       -0.0003      0.000     -1.605      0.108        -0.001  6.72e-05\n",
        "======================================================================================================"
       ]
      },
      {
       "output_type": "stream",
       "stream": "stdout",
       "text": [
        "\n",
        "Warning: Maximum number of iterations has been exceeded."
       ]
      },
      {
       "output_type": "stream",
       "stream": "stdout",
       "text": [
        "\n",
        "         Current function value: 0.087601\n",
        "         Iterations: 35\n",
        "                           Logit Regression Results                           \n",
        "==============================================================================\n",
        "Dep. Variable:                had_gun   No. Observations:              3400215\n",
        "Model:                          Logit   Df Residuals:                  3400167\n",
        "Method:                           MLE   Df Model:                           47\n",
        "Date:                Wed, 06 Jan 2016   Pseudo R-squ.:                  0.4758\n",
        "Time:                        22:13:38   Log-Likelihood:            -2.9786e+05\n",
        "converged:                      False   LL-Null:                   -5.6825e+05\n",
        "                                        LLR p-value:                     0.000\n",
        "======================================================================================================\n",
        "                                         coef    std err          z      P>|z|      [95.0% Conf. Int.]\n",
        "------------------------------------------------------------------------------------------------------\n",
        "Intercept                             -6.3294     16.417     -0.386      0.700       -38.505    25.847\n",
        "C(UCR_OFFENSE_CODE__1, Sum)[S.91]      6.1536     16.417      0.375      0.708       -26.022    38.330\n",
        "C(UCR_OFFENSE_CODE__1, Sum)[S.92]      4.3743     16.417      0.266      0.790       -27.803    36.552\n",
        "C(UCR_OFFENSE_CODE__1, Sum)[S.93]      8.2010     16.419      0.499      0.617       -23.979    40.381\n",
        "C(UCR_OFFENSE_CODE__1, Sum)[S.100]     3.8240     16.417      0.233      0.816       -28.352    36.000\n",
        "C(UCR_OFFENSE_CODE__1, Sum)[S.111]     1.6169     16.417      0.098      0.922       -30.559    33.793\n",
        "C(UCR_OFFENSE_CODE__1, Sum)[S.112]     1.1343     16.417      0.069      0.945       -31.042    33.311\n",
        "C(UCR_OFFENSE_CODE__1, Sum)[S.113]     1.6998     16.417      0.104      0.918       -30.477    33.877\n",
        "C(UCR_OFFENSE_CODE__1, Sum)[S.114]     0.3000     16.417      0.018      0.985       -31.876    32.476\n",
        "C(UCR_OFFENSE_CODE__1, Sum)[S.120]     5.0054     16.417      0.305      0.760       -27.171    37.181\n",
        "C(UCR_OFFENSE_CODE__1, Sum)[S.131]     4.2034     16.417      0.256      0.798       -27.973    36.379\n",
        "C(UCR_OFFENSE_CODE__1, Sum)[S.132]    -0.5691     16.417     -0.035      0.972       -32.745    31.607\n",
        "C(UCR_OFFENSE_CODE__1, Sum)[S.133]     0.0628     16.417      0.004      0.997       -32.113    32.239\n",
        "C(UCR_OFFENSE_CODE__1, Sum)[S.200]    -0.8743     16.419     -0.053      0.958       -33.055    31.307\n",
        "C(UCR_OFFENSE_CODE__1, Sum)[S.210]     1.7833     16.418      0.109      0.914       -30.396    33.962\n",
        "C(UCR_OFFENSE_CODE__1, Sum)[S.220]    -0.0580     16.417     -0.004      0.997       -32.234    32.118\n",
        "C(UCR_OFFENSE_CODE__1, Sum)[S.231]    -1.9666     16.431     -0.120      0.905       -34.171    30.238\n",
        "C(UCR_OFFENSE_CODE__1, Sum)[S.232]    -1.6234     16.424     -0.099      0.921       -33.814    30.567\n",
        "C(UCR_OFFENSE_CODE__1, Sum)[S.233]    -1.7018     16.417     -0.104      0.917       -33.878    30.474\n",
        "C(UCR_OFFENSE_CODE__1, Sum)[S.234]    -1.1668     16.417     -0.071      0.943       -33.343    31.010\n",
        "C(UCR_OFFENSE_CODE__1, Sum)[S.235]   -14.9102    673.155     -0.022      0.982     -1334.270  1304.450\n",
        "C(UCR_OFFENSE_CODE__1, Sum)[S.236]    -0.4821     16.417     -0.029      0.977       -32.658    31.694\n",
        "C(UCR_OFFENSE_CODE__1, Sum)[S.237]    -0.8607     16.418     -0.052      0.958       -33.040    31.319\n",
        "C(UCR_OFFENSE_CODE__1, Sum)[S.238]    -0.7518     16.417     -0.046      0.963       -32.928    31.424\n",
        "C(UCR_OFFENSE_CODE__1, Sum)[S.240]    -0.5722     16.417     -0.035      0.972       -32.749    31.604\n",
        "C(UCR_OFFENSE_CODE__1, Sum)[S.250]    -0.2876     16.417     -0.018      0.986       -32.464    31.889\n",
        "C(UCR_OFFENSE_CODE__1, Sum)[S.261]     0.2179     16.417      0.013      0.989       -31.958    32.394\n",
        "C(UCR_OFFENSE_CODE__1, Sum)[S.262]    -1.9733     16.419     -0.120      0.904       -34.154    30.208\n",
        "C(UCR_OFFENSE_CODE__1, Sum)[S.263]     0.7686     16.417      0.047      0.963       -31.408    32.945\n",
        "C(UCR_OFFENSE_CODE__1, Sum)[S.264]    -0.1291     16.431     -0.008      0.994       -32.334    32.075\n",
        "C(UCR_OFFENSE_CODE__1, Sum)[S.270]    -1.6351     16.419     -0.100      0.921       -33.816    30.546\n",
        "C(UCR_OFFENSE_CODE__1, Sum)[S.280]     2.6876     16.417      0.164      0.870       -29.488    34.864\n",
        "C(UCR_OFFENSE_CODE__1, Sum)[S.290]     0.2455     16.417      0.015      0.988       -31.931    32.422\n",
        "C(UCR_OFFENSE_CODE__1, Sum)[S.351]     2.0175     16.417      0.123      0.902       -30.159    34.193\n",
        "C(UCR_OFFENSE_CODE__1, Sum)[S.352]     1.2476     16.417      0.076      0.939       -30.928    33.424\n",
        "C(UCR_OFFENSE_CODE__1, Sum)[S.361]    -1.2408     16.446     -0.075      0.940       -33.474    30.992\n",
        "C(UCR_OFFENSE_CODE__1, Sum)[S.362]   -12.7025    132.565     -0.096      0.924      -272.526   247.121\n",
        "C(UCR_OFFENSE_CODE__1, Sum)[S.370]    -1.9475     16.426     -0.119      0.906       -34.142    30.247\n",
        "C(UCR_OFFENSE_CODE__1, Sum)[S.391]    -9.5730     72.325     -0.132      0.895      -151.327   132.180\n",
        "C(UCR_OFFENSE_CODE__1, Sum)[S.393]     2.8987     16.419      0.177      0.860       -29.281    35.078\n",
        "C(UCR_OFFENSE_CODE__1, Sum)[S.401]    -0.0867     16.418     -0.005      0.996       -32.266    32.093\n",
        "C(UCR_OFFENSE_CODE__1, Sum)[S.402]     0.2359     16.420      0.014      0.989       -31.946    32.418\n",
        "C(UCR_OFFENSE_CODE__1, Sum)[S.510]     0.2555     16.446      0.016      0.988       -31.978    32.489\n",
        "C(RACE_OF_OFFENDER, Sum)[S.1]         -0.1336      0.017     -8.069      0.000        -0.166    -0.101\n",
        "C(RACE_OF_OFFENDER, Sum)[S.2]          0.7165      0.016     43.467      0.000         0.684     0.749\n",
        "C(RACE_OF_OFFENDER, Sum)[S.3]         -0.5819      0.037    -15.775      0.000        -0.654    -0.510\n",
        "SEX_OF_OFFENDER                        0.8363      0.011     77.224      0.000         0.815     0.858\n",
        "AGE_OF_OFFENDER                       -0.0051      0.000    -21.560      0.000        -0.006    -0.005\n",
        "======================================================================================================"
       ]
      },
      {
       "output_type": "stream",
       "stream": "stdout",
       "text": [
        "\n"
       ]
      },
      {
       "output_type": "stream",
       "stream": "stderr",
       "text": [
        "/Users/epierson/Library/Enthought/Canopy_64bit/User/lib/python2.7/site-packages/statsmodels-0.6.1-py2.7-macosx-10.6-x86_64.egg/statsmodels/base/model.py:466: ConvergenceWarning: Maximum Likelihood optimization failed to converge. Check mle_retvals\n",
        "  \"Check mle_retvals\", ConvergenceWarning)\n"
       ]
      }
     ],
     "prompt_number": 13
    },
    {
     "cell_type": "heading",
     "level": 6,
     "metadata": {},
     "source": [
      "Maybe African American people are just stopped by police doing less severe crimes, where they\u2019re less likely to carry guns? I could not find evidence for this either in the UCR"
     ]
    },
    {
     "cell_type": "code",
     "collapsed": false,
     "input": [
      "#Just compare overall frequencies of being armed, not controlling for crime. \n",
      "white_had_gun = incident_report['had_gun'][incident_report['RACE OF OFFENDER'] == 1].mean()\n",
      "black_had_gun = incident_report['had_gun'][incident_report['RACE OF OFFENDER'] == 2].mean()\n",
      "white_had_weapon = incident_report['had_weapon'][incident_report['RACE OF OFFENDER'] == 1].mean()\n",
      "black_had_weapon = incident_report['had_weapon'][incident_report['RACE OF OFFENDER'] == 2].mean()\n",
      "print 'Frequency of white people being armed: %2.3f; of African American people being armed: %2.3f' % (white_had_weapon, black_had_weapon)\n",
      "print 'Frequency of white people having gun: %2.3f; of African American people having gun: %2.3f' % (white_had_gun, black_had_gun)\n",
      "\n"
     ],
     "language": "python",
     "metadata": {},
     "outputs": [
      {
       "output_type": "stream",
       "stream": "stdout",
       "text": [
        "Frequency of white people being armed: 0.068; of African American people being armed: 0.133\n",
        "Frequency of white people having gun: 0.022; of African American people having gun: 0.075\n"
       ]
      }
     ],
     "prompt_number": 14
    },
    {
     "cell_type": "code",
     "collapsed": false,
     "input": [
      "#read in category b. Vast majority are unarmed. \n",
      "schedule_b = pd.read_csv('/Users/epierson/Desktop/category_B_violations/DS0008/data.csv', sep = ',')\n",
      "schedule_b['is_unarmed'] = (schedule_b['WEAPON 1'] == '01') | (schedule_b['WEAPON 1'] == 1)\n",
      "#Then combine A + B offenses. \n",
      "#I am a little uncertain about this analysis because we might be comparing apples to oranges -- is one of them offense-level, one offender-level? \n",
      "total_black_unarmed = sum(schedule_b['is_unarmed'] \n",
      "                          & (schedule_b['RACE (OF ARRESTEE)'] == 'B')) + sum((incident_report['had_weapon'] == 0) & \n",
      "                                                                          (incident_report['RACE OF OFFENDER'] == 2))\n",
      "total_white_unarmed = sum(schedule_b['is_unarmed'] \n",
      "                          & (schedule_b['RACE (OF ARRESTEE)'] == 'W')) + sum((incident_report['had_weapon'] == 0) & \n",
      "                                                                          (incident_report['RACE OF OFFENDER'] == 1))\n",
      "total_black = sum(schedule_b['RACE (OF ARRESTEE)'] == 'B') + sum(incident_report['RACE OF OFFENDER'] == 2)\n",
      "total_white = sum(schedule_b['RACE (OF ARRESTEE)'] == 'W') + sum(incident_report['RACE OF OFFENDER'] == 1)\n",
      "print 'African American people who are unarmed', 1.*total_black_unarmed / total_black\n",
      "print 'White people who are unarmed', 1.*total_white_unarmed / total_white\n"
     ],
     "language": "python",
     "metadata": {},
     "outputs": [
      {
       "output_type": "stream",
       "stream": "stdout",
       "text": [
        "African American people who are unarmed 0.898668861499\n",
        "White people who are unarmed 0.953406439564\n"
       ]
      },
      {
       "output_type": "stream",
       "stream": "stderr",
       "text": [
        "/Users/epierson/Library/Enthought/Canopy_64bit/User/lib/python2.7/site-packages/pandas/io/parsers.py:1139: DtypeWarning: Columns (6,9,10) have mixed types. Specify dtype option on import or set low_memory=False.\n",
        "  data = self._reader.read(nrows)\n"
       ]
      }
     ],
     "prompt_number": 15
    },
    {
     "cell_type": "code",
     "collapsed": false,
     "input": [
      "category_a_race_counts = Counter(incident_report['RACE OF OFFENDER'])\n",
      "print 'In category A (more likely to be armed), ratio of white offenders to African American offenders is',  1. * category_a_race_counts[1] / category_a_race_counts[2]\n",
      "category_b_race_counts = Counter(schedule_b['RACE (OF ARRESTEE)'])\n",
      "print 'In category B (less likely to be armed), ratio of white offenders to African American offenders is', 1.*category_b_race_counts['W'] / category_b_race_counts['B']"
     ],
     "language": "python",
     "metadata": {},
     "outputs": [
      {
       "output_type": "stream",
       "stream": "stdout",
       "text": [
        " In category A (more likely to be armed), ratio of white offenders to African American offenders is 1.96044005647\n",
        "In category B (less likely to be armed), ratio of white offenders to African American offenders is"
       ]
      },
      {
       "output_type": "stream",
       "stream": "stdout",
       "text": [
        " 3.31438420239\n"
       ]
      }
     ],
     "prompt_number": 17
    },
    {
     "cell_type": "heading",
     "level": 6,
     "metadata": {},
     "source": [
      "African Americans are also disproportionately shot by police in poor neighborhoods: poorer than whites shot by police, and poorer than the average African American [4]. (Whites who are shot by police are also in poorer neighborhoods than the average white American). But there is no discrepancy in the racial composition of the neighborhoods in which police shootings occurred."
     ]
    },
    {
     "cell_type": "code",
     "collapsed": false,
     "input": [
      "\n",
      "%matplotlib inline\n",
      "#read in Guardian data. I added zipcodes to this data using the Google API. Let me know if you want that data. \n",
      "#FiveThirtyEight also provides a version: http://fivethirtyeight.com/features/where-police-have-killed-americans-in-2015/\n",
      "guardian_d = pd.read_csv('guardian_with_zips.csv')\n",
      "income_by_zip = pd.read_csv('income_by_zipcode.csv', sep = ' ')\n",
      "race_by_zip = pd.read_csv('race_by_zipcode.csv', sep = ' ')\n",
      "\n",
      "total_pop_col = 'B02001_001'\n",
      "white_pop_col = 'B02001_002'\n",
      "black_pop_col = 'B02001_003'\n",
      "\n",
      "race_by_zip['zip'] = race_by_zip.index.map(lambda x:int(x.split()[1]))\n",
      "#sample according to overall distribution\n",
      "black_counts_by_zip = np.random.multinomial(10000, race_by_zip[black_pop_col] / race_by_zip[black_pop_col].sum())\n",
      "white_counts_by_zip = np.random.multinomial(10000, race_by_zip[white_pop_col] / race_by_zip[white_pop_col].sum())\n",
      "black_pop_zips = []\n",
      "white_pop_zips = []\n",
      "#sample a random population-weighted sample of zipcodes for each race. \n",
      "for i in range(len(black_counts_by_zip)):\n",
      "    zipcode = race_by_zip['zip'].iloc[i]\n",
      "    for j in range(black_counts_by_zip[i]):\n",
      "        black_pop_zips.append(zipcode)\n",
      "    for j in range(white_counts_by_zip[i]):\n",
      "        white_pop_zips.append(zipcode)\n",
      "        \n",
      "#make histograms comparing racial composition + socioeconomic status (SES) for \n",
      "#zipcodes where shootings occur vs. zipcodes where general population lives. \n",
      "#data on racial composition and SES comes from the American Community Survey.\n",
      "\n",
      "\n",
      "race_by_zip['fraction_of_zipcode_which_is_black'] = 1.*race_by_zip[black_pop_col] / race_by_zip[total_pop_col]\n",
      "race_by_zip['fraction_of_zipcode_which_is_white'] = 1.*race_by_zip[white_pop_col] / race_by_zip[total_pop_col]\n",
      "\n",
      "white_income_col = 'B19013A_001'\n",
      "black_income_col = 'B19013B_001'\n",
      "overall_income_col = 'B19013_001'\n",
      "zips_with_shootings = list(guardian_d['zipcode'].dropna())\n",
      "zips_with_black_shootings = list(guardian_d['zipcode'].loc[guardian_d['raceethnicity'] == 'Black'].dropna())\n",
      "zips_with_white_shootings = list(guardian_d['zipcode'].loc[guardian_d['raceethnicity'] == 'White'].dropna())\n",
      "zips_with_hispanic_shootings = list(guardian_d['zipcode'].loc[guardian_d['raceethnicity'] == 'Hispanic/Latino'].dropna())\n",
      "\n",
      "\n",
      "\n",
      "\n",
      "def makeHistogram(df_to_use, col_to_use, zips_with_shootings, title_string, xmin = 0, xmax = 150000):\n",
      "    figure()\n",
      "    df_to_use['zip'] = df_to_use.index.map(lambda x:int(x.split()[1]))\n",
      "    zip_to_feature = dict(zip(df_to_use['zip'], df_to_use[col_to_use]))\n",
      "    features_with_shootings = [zip_to_feature[a] for a in zips_with_shootings if a in zip_to_feature]\n",
      "    \n",
      "    features_with_shootings = [a for a in features_with_shootings if ~np.isnan(a)]\n",
      "    title('%s mean: %2.3f +/- %2.3f\\nmedian: %2.3f' % (title_string, np.mean(features_with_shootings), \n",
      "                                                       np.std(features_with_shootings) / np.sqrt(len(features_with_shootings)),\n",
      "                                                       np.median(features_with_shootings)))\n",
      "    hist(features_with_shootings, bins = 50, range = [xmin, xmax])\n",
      "\n",
      "\n",
      "makeHistogram(df_to_use = income_by_zip, col_to_use = overall_income_col, zips_with_shootings = zips_with_shootings,\n",
      "              title_string = 'Income, all shootings')\n",
      "makeHistogram(df_to_use = income_by_zip, col_to_use = overall_income_col, zips_with_shootings = zips_with_black_shootings,\n",
      "              title_string = 'Income, African American shootings')\n",
      "makeHistogram(df_to_use = income_by_zip, col_to_use = overall_income_col, zips_with_shootings = black_pop_zips,\n",
      "              title_string = 'Income, African American overall')\n",
      "\n",
      "makeHistogram(df_to_use = income_by_zip, col_to_use = overall_income_col, zips_with_shootings = zips_with_white_shootings,\n",
      "              title_string = 'Income, white shootings')\n",
      "makeHistogram(df_to_use = income_by_zip, col_to_use = overall_income_col, zips_with_shootings = white_pop_zips,\n",
      "              title_string = 'Income, white overall')\n",
      "\n",
      "\n",
      "makeHistogram(df_to_use = income_by_zip, col_to_use = overall_income_col, zips_with_shootings = zips_with_hispanic_shootings,\n",
      "              title_string = 'Income, Hispanic shootings')\n",
      "makeHistogram(df_to_use = race_by_zip, col_to_use = 'fraction_of_zipcode_which_is_black', zips_with_shootings = zips_with_black_shootings,\n",
      "              title_string = 'Fraction of zipcode which is African American, African American shootings', xmin = 0, xmax = 1)\n",
      "makeHistogram(df_to_use = race_by_zip, col_to_use = 'fraction_of_zipcode_which_is_black', zips_with_shootings = black_pop_zips,\n",
      "              title_string = 'Fraction of zipcode which is African American, African American overall', xmin = 0, xmax = 1)\n",
      "makeHistogram(df_to_use = race_by_zip, col_to_use = 'fraction_of_zipcode_which_is_black', zips_with_shootings = zips_with_white_shootings,\n",
      "              title_string = 'Fraction of zipcode which is African American, white shootings', xmin = 0, xmax = 1)\n",
      "makeHistogram(df_to_use = race_by_zip, col_to_use = 'fraction_of_zipcode_which_is_black', zips_with_shootings = white_pop_zips,\n",
      "              title_string = 'Fraction of zipcode which is African American, white overall', xmin = 0, xmax = 1)\n",
      "\n"
     ],
     "language": "python",
     "metadata": {},
     "outputs": [
      {
       "metadata": {},
       "output_type": "display_data",
       "png": "[encoded data removed]",
       "text": [
        "<matplotlib.figure.Figure at 0x113867c50>"
       ]
      },
      {
       "metadata": {},
       "output_type": "display_data",
       "png": "[encoded data removed]",
       "text": [
        "<matplotlib.figure.Figure at 0x113867d10>"
       ]
      },
      {
       "metadata": {},
       "output_type": "display_data",
       "png": "[encoded data removed]",
       "text": [
        "<matplotlib.figure.Figure at 0x1147552d0>"
       ]
      },
      {
       "metadata": {},
       "output_type": "display_data",
       "png": "[encoded data removed]",
       "text": [
        "<matplotlib.figure.Figure at 0x1134ef950>"
       ]
      },
      {
       "metadata": {},
       "output_type": "display_data",
       "png": "[encoded data removed]",
       "text": [
        "<matplotlib.figure.Figure at 0x113f57c90>"
       ]
      },
      {
       "metadata": {},
       "output_type": "display_data",
       "png": "[encoded data removed]",
       "text": [
        "<matplotlib.figure.Figure at 0x113be1e50>"
       ]
      },
      {
       "metadata": {},
       "output_type": "display_data",
       "png": "[encoded data removed]",
       "text": [
        "<matplotlib.figure.Figure at 0x113c526d0>"
       ]
      },
      {
       "metadata": {},
       "output_type": "display_data",
       "png": "[encoded data removed]",
       "text": [
        "<matplotlib.figure.Figure at 0x113cdf5d0>"
       ]
      },
      {
       "metadata": {},
       "output_type": "display_data",
       "png": "[encoded data removed]",
       "text": [
        "<matplotlib.figure.Figure at 0x1159bd410>"
       ]
      },
      {
       "metadata": {},
       "output_type": "display_data",
       "png": "[encoded data removed]",
       "text": [
        "<matplotlib.figure.Figure at 0x11667df90>"
       ]
      }
     ],
     "prompt_number": 18
    }
   ],
   "metadata": {}
  }
 ]
}